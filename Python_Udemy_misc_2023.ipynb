{
 "cells": [
  {
   "cell_type": "code",
   "execution_count": 2,
   "id": "26519a98",
   "metadata": {},
   "outputs": [
    {
     "data": {
      "text/plain": [
       "8"
      ]
     },
     "execution_count": 2,
     "metadata": {},
     "output_type": "execute_result"
    }
   ],
   "source": [
    "2+6"
   ]
  },
  {
   "cell_type": "code",
   "execution_count": 8,
   "id": "226b6e81",
   "metadata": {},
   "outputs": [],
   "source": [
    "a = 10"
   ]
  },
  {
   "cell_type": "code",
   "execution_count": 12,
   "id": "6faababb",
   "metadata": {},
   "outputs": [],
   "source": [
    "a = a + a"
   ]
  },
  {
   "cell_type": "code",
   "execution_count": 13,
   "id": "a5058e40",
   "metadata": {},
   "outputs": [
    {
     "data": {
      "text/plain": [
       "40"
      ]
     },
     "execution_count": 13,
     "metadata": {},
     "output_type": "execute_result"
    }
   ],
   "source": [
    "a"
   ]
  },
  {
   "cell_type": "code",
   "execution_count": 14,
   "id": "fe77158b",
   "metadata": {},
   "outputs": [
    {
     "data": {
      "text/plain": [
       "6.0"
      ]
     },
     "execution_count": 14,
     "metadata": {},
     "output_type": "execute_result"
    }
   ],
   "source": [
    "5 + 1.0"
   ]
  },
  {
   "cell_type": "code",
   "execution_count": 37,
   "id": "93f02f70",
   "metadata": {},
   "outputs": [
    {
     "name": "stdout",
     "output_type": "stream",
     "text": [
      "o\n",
      "o\n",
      "Hlo\n",
      "Hel\n",
      "ll\n",
      "Hlo\n",
      "olleH\n",
      "hello\n"
     ]
    },
    {
     "data": {
      "text/plain": [
       "'hello'"
      ]
     },
     "execution_count": 37,
     "metadata": {},
     "output_type": "execute_result"
    }
   ],
   "source": [
    "#indexing\n",
    "str1 = 'Hello'\n",
    "print(str1[4])\n",
    "print(str1[-1])\n",
    "print(str1[0:6:2])\n",
    "print(str1[:3])\n",
    "print(str1[2:4])\n",
    "print(str1[::2])\n",
    "print(str1[::-1]) # reverse a string\n",
    "print('hello')\n",
    "'hello'"
   ]
  },
  {
   "cell_type": "code",
   "execution_count": 28,
   "id": "1e135bc3",
   "metadata": {},
   "outputs": [
    {
     "name": "stdout",
     "output_type": "stream",
     "text": [
      "I'm Hungry\n",
      "AAAAAAAAAA\n"
     ]
    }
   ],
   "source": [
    "#string concatenation\n",
    "x = \"I'm \"\n",
    "print(x + \"Hungry\")\n",
    "\n",
    "print('A' * 10)"
   ]
  },
  {
   "cell_type": "code",
   "execution_count": 38,
   "id": "19391d1e",
   "metadata": {},
   "outputs": [
    {
     "data": {
      "text/plain": [
       "'zzzzzzzzzz'"
      ]
     },
     "execution_count": 38,
     "metadata": {},
     "output_type": "execute_result"
    }
   ],
   "source": [
    "letterZ = 'z'\n",
    "letterZ * 10"
   ]
  },
  {
   "cell_type": "code",
   "execution_count": 42,
   "id": "3415b741",
   "metadata": {},
   "outputs": [
    {
     "name": "stdout",
     "output_type": "stream",
     "text": [
      "The quick brown fox fox fox\n"
     ]
    }
   ],
   "source": [
    "#string interpolation\n",
    "print('The {2} {1} {0} {0} {0}'.format('fox','brown','quick'))"
   ]
  },
  {
   "cell_type": "code",
   "execution_count": 43,
   "id": "749c1a0e",
   "metadata": {},
   "outputs": [
    {
     "data": {
      "text/plain": [
       "0.15015015015015015"
      ]
     },
     "execution_count": 43,
     "metadata": {},
     "output_type": "execute_result"
    }
   ],
   "source": [
    "result = 100/666\n",
    "result"
   ]
  },
  {
   "cell_type": "code",
   "execution_count": 48,
   "id": "9a9866fd",
   "metadata": {},
   "outputs": [
    {
     "name": "stdout",
     "output_type": "stream",
     "text": [
      "The result is 0.15015015015015015\n",
      "The result is 0.15015\n",
      "The result is     0.1502\n"
     ]
    }
   ],
   "source": [
    "# precision float formatting string literals\n",
    "# Check course notbook for alignments etc etc\n",
    "# https://pyformat.info/\n",
    "print(\"The result is {r}\".format(r=result))\n",
    "print(\"The result is {r:1.5f}\".format(r=result))\n",
    "print(\"The result is {r:10.4f}\".format(r=result))"
   ]
  },
  {
   "cell_type": "code",
   "execution_count": 49,
   "id": "c60cafe9",
   "metadata": {},
   "outputs": [
    {
     "name": "stdout",
     "output_type": "stream",
     "text": [
      "Hello, my name is Tony and age is 3.\n"
     ]
    }
   ],
   "source": [
    "# f string literal\n",
    "name = \"Tony\"\n",
    "age = 3\n",
    "print(f'Hello, my name is {name} and age is {age}.')"
   ]
  },
  {
   "cell_type": "code",
   "execution_count": 55,
   "id": "d7f85b04",
   "metadata": {},
   "outputs": [
    {
     "name": "stdout",
     "output_type": "stream",
     "text": [
      "Python rules banana!\n"
     ]
    }
   ],
   "source": [
    "word = 'rules'\n",
    "print('Python {w} {b}!'.format(w=word, b='banana'))"
   ]
  },
  {
   "cell_type": "code",
   "execution_count": 60,
   "id": "5e07528d",
   "metadata": {},
   "outputs": [
    {
     "name": "stdout",
     "output_type": "stream",
     "text": [
      "Removethespaces\n"
     ]
    },
    {
     "data": {
      "text/plain": [
       "'Removethespaces'"
      ]
     },
     "execution_count": 60,
     "metadata": {},
     "output_type": "execute_result"
    }
   ],
   "source": [
    "#remove character from string: replace method\n",
    "str55 = \"Remove the spaces\"\n",
    "\n",
    "print(str55.replace(' ',''))\n",
    "\n",
    "#example 2\n",
    "str56 = \"Remove the spaces\"\n",
    "''.join(str56.split(' '))"
   ]
  },
  {
   "cell_type": "code",
   "execution_count": 109,
   "id": "02452180",
   "metadata": {},
   "outputs": [
    {
     "name": "stdout",
     "output_type": "stream",
     "text": [
      "['ok', 1.098]\n",
      "[['this', 'concatenated'], [1, 'ok', 1.098]]\n",
      "['ONE!!', 'ok', 1.098, 'Added this shit in']\n",
      "SEVEN\n",
      "[3, 3, 4, 5, 5, 7, 9]\n"
     ]
    },
    {
     "ename": "ValueError",
     "evalue": "'ok' is not in list",
     "output_type": "error",
     "traceback": [
      "\u001b[1;31m---------------------------------------------------------------------------\u001b[0m",
      "\u001b[1;31mValueError\u001b[0m                                Traceback (most recent call last)",
      "Cell \u001b[1;32mIn[109], line 35\u001b[0m\n\u001b[0;32m     33\u001b[0m num_list \u001b[38;5;241m=\u001b[39m num_list[::\u001b[38;5;241m-\u001b[39m\u001b[38;5;241m1\u001b[39m]\n\u001b[0;32m     34\u001b[0m num_list[\u001b[38;5;241m2\u001b[39m:]\n\u001b[1;32m---> 35\u001b[0m my_list\u001b[38;5;241m.\u001b[39mindex(\u001b[38;5;124m'\u001b[39m\u001b[38;5;124mok\u001b[39m\u001b[38;5;124m'\u001b[39m)\n",
      "\u001b[1;31mValueError\u001b[0m: 'ok' is not in list"
     ]
    }
   ],
   "source": [
    "#lists\n",
    "\n",
    "my_list = [1,'ok',1.098]\n",
    "len(my_list)-1\n",
    "print(my_list[1:])\n",
    "mylist = ['this','concatenated']\n",
    "test = mylist + my_list\n",
    "test1 = [mylist, my_list]\n",
    "print(test1)\n",
    "\n",
    "#lists are mutable, can be reassigned\n",
    "my_list[0] = 'ONE!!'\n",
    "my_list\n",
    "\n",
    "#append will perminently change the list\n",
    "my_list.append('Added this shit in')\n",
    "my_list.append('SEVEN')\n",
    "test1\n",
    "\n",
    "#remove item from list\n",
    "popped_item = my_list.pop()\n",
    "print(my_list)\n",
    "print(popped_item)\n",
    "my_list.pop(-3)\n",
    "\n",
    "#sorting lists\n",
    "num_list = [3,5,3,7,9,4,5]\n",
    "letter_list = ['a', 'b', 'c', 'd']\n",
    "num_list.sort()\n",
    "print(num_list)\n",
    "letter_list.reverse()\n",
    "letter_list\n",
    "num_list = num_list[::-1]\n",
    "num_list[2:]"
   ]
  },
  {
   "cell_type": "code",
   "execution_count": 144,
   "id": "6e45f58b",
   "metadata": {},
   "outputs": [
    {
     "name": "stdout",
     "output_type": "stream",
     "text": [
      "value 2\n",
      "2\n",
      "{'key1': 'value1', 'key2': 'value 2', 'k3': [0, 1, 2], 'New key k4': 'new value just added'}\n",
      "{'key1': 'value1', 'key2': 'NEW VALUE reassigned !!', 'k3': [0, 1, 2], 'New key k4': 'new value just added'}\n",
      "dict_items([('key1', 'value1'), ('key2', 'NEW VALUE reassigned !!'), ('k3', [0, 1, 2]), ('New key k4', 'new value just added')])\n"
     ]
    }
   ],
   "source": [
    "#dictionaries dictionary\n",
    "\n",
    "my_dict = {'key1':'value1', 'key2':'value 2', 'k3': [0,1,2]}\n",
    "print(my_dict['key2'])\n",
    "print(my_dict['k3'][2])\n",
    "my_dict['New key k4'] = 'new value just added'\n",
    "print(my_dict)\n",
    "my_dict['key2'] = 'NEW VALUE reassigned !!'\n",
    "print(my_dict)\n",
    "print(my_dict.items()) ## Tuples\n",
    "#print(my_dict.values())\n",
    "#my_dict.keys()"
   ]
  },
  {
   "cell_type": "code",
   "execution_count": 115,
   "id": "0b4f2ba3",
   "metadata": {},
   "outputs": [
    {
     "name": "stdout",
     "output_type": "stream",
     "text": [
      "<class 'tuple'>\n",
      "8\n",
      "ok\n",
      "5\n",
      "2\n"
     ]
    },
    {
     "data": {
      "text/plain": [
       "('b', 'a', 'a', 'ok', 4, 3, 2, 1)"
      ]
     },
     "execution_count": 115,
     "metadata": {},
     "output_type": "execute_result"
    }
   ],
   "source": [
    "#tuples \n",
    "\n",
    "t = (1,2,3,4,'ok','a','a','b')\n",
    "print(type(t))\n",
    "print(len(t))\n",
    "print(t[-4])\n",
    "print(t.index('a'))\n",
    "print(t.count('a'))\n",
    "t[::-1]"
   ]
  },
  {
   "cell_type": "code",
   "execution_count": 125,
   "id": "fde782e0",
   "metadata": {},
   "outputs": [
    {
     "name": "stdout",
     "output_type": "stream",
     "text": [
      "{1}\n",
      "{1, 2}\n",
      "[5, 5, 5, 5, 5, 5, 5, 5]\n"
     ]
    },
    {
     "data": {
      "text/plain": [
       "{5}"
      ]
     },
     "execution_count": 125,
     "metadata": {},
     "output_type": "execute_result"
    }
   ],
   "source": [
    "#sets \n",
    "\n",
    "myset = set()\n",
    "myset.add(1)\n",
    "print(myset)\n",
    "myset.add(2)\n",
    "print(myset)\n",
    "\n",
    "list2 = [5,5,5,5,5,5,5,5,]\n",
    "myset2 = set(list2)\n",
    "print(list2)\n",
    "myset2"
   ]
  },
  {
   "cell_type": "code",
   "execution_count": 128,
   "id": "3f908e76",
   "metadata": {},
   "outputs": [
    {
     "name": "stdout",
     "output_type": "stream",
     "text": [
      "{'s', 'i', 'M', 'p'}\n",
      "['s', 'i', 'M', 'p']\n"
     ]
    },
    {
     "data": {
      "text/plain": [
       "{1, 2, 3}"
      ]
     },
     "execution_count": 128,
     "metadata": {},
     "output_type": "execute_result"
    }
   ],
   "source": [
    "mississippi = set('Mississippi')\n",
    "print(mississippi)\n",
    "testlist = list(mississippi)\n",
    "print(testlist)\n",
    "set([1,1,2,3])"
   ]
  },
  {
   "cell_type": "code",
   "execution_count": 142,
   "id": "e4875ad3",
   "metadata": {},
   "outputs": [
    {
     "name": "stdout",
     "output_type": "stream",
     "text": [
      "True\n",
      "<class 'bool'>\n",
      "True\n",
      "False\n",
      "False\n"
     ]
    },
    {
     "data": {
      "text/plain": [
       "False"
      ]
     },
     "execution_count": 142,
     "metadata": {},
     "output_type": "execute_result"
    }
   ],
   "source": [
    "#Boolean and comparion operators\n",
    "print( 1 == 1 )\n",
    "print (type(True))\n",
    "\n",
    "print (1 == 1 and 2 == 2)\n",
    "print (not 1==1 and 2==2)\n",
    "print (1>2)\n",
    "True and False"
   ]
  },
  {
   "cell_type": "code",
   "execution_count": 143,
   "id": "47b3b33b",
   "metadata": {},
   "outputs": [
    {
     "data": {
      "text/plain": [
       "{1, 2, 3}"
      ]
     },
     "execution_count": 143,
     "metadata": {},
     "output_type": "execute_result"
    }
   ],
   "source": [
    "set([1,1,2,3])"
   ]
  },
  {
   "cell_type": "code",
   "execution_count": null,
   "id": "2109babe",
   "metadata": {},
   "outputs": [],
   "source": [
    "# I/O files notes:\n",
    "#file permissions ie: read only via \"mode\"\n",
    "\n",
    "myfile = open('myfile1.txt')\n",
    "myfile.read()\n",
    "myfile.seek(0)\n",
    "myfile.readlines() # adds each line into a list\n",
    "myfile.close() # do this cause python has it open inthe background..\n",
    "\n",
    "#to avoid this can use this function:\n",
    "with open('myfile1.txt') as new_file:\n",
    "    contents = new_file.read()\n",
    "    \n",
    "print(contents)\n",
    "\n",
    "with open('myfile2.txt', mode='r') as f:\n",
    "    print(f.read())\n",
    "\n",
    "#mode 'a' is append, the cursor is at the end of the file so it will write to it.   \n",
    "with open('myfile2.txt', mode='a') as f:\n",
    "    print(f.write('\\n\\nI really hate this uncertainty'))\n",
    "    \n",
    "with open('myfile2.txt', mode='r') as f:\n",
    "    print(f.read())"
   ]
  },
  {
   "cell_type": "code",
   "execution_count": null,
   "id": "5d9c3927",
   "metadata": {},
   "outputs": [],
   "source": [
    "#create a file with Python\n",
    "\n",
    "with open('fjkfhkfgsdakfgk.txt', mode='w') as f:\n",
    "    f.write(\"I really hate this f'n uncertainty\")\n",
    "    \n",
    "with open('fjkfhkfgsdakfgk.txt', mode='r') as f:\n",
    "    print(f.read())"
   ]
  },
  {
   "cell_type": "code",
   "execution_count": null,
   "id": "de2bfc12",
   "metadata": {},
   "outputs": [],
   "source": [
    "#create a file with Python\n",
    "\n",
    "x = open('stopclanking.txt', 'w')\n",
    "x.write('stfu I will buy you a Mouse Pad')\n",
    "x.close()"
   ]
  },
  {
   "cell_type": "code",
   "execution_count": null,
   "id": "0254d859",
   "metadata": {},
   "outputs": [],
   "source": [
    "#control flow: if/elif/else, For loops, while loops\n",
    "\n",
    "# **** For / Else statements, similar to if/else\n",
    "\n",
    "#for i in ['f','t','s']:\n",
    "#    print(i)\n",
    "\n",
    "\n",
    "mylist4 = [1,2,3,4,5,6,7,8,9,10]\n",
    "\n",
    "newlist = []\n",
    "\n",
    "for i in mylist4:\n",
    "    if i % 2 == 0:\n",
    "        print(i)\n",
    "    else:\n",
    "        print(f'{i} is Odd')\n",
    "        \n",
    "print('\\n')\n",
    "\n",
    "total = 0\n",
    "for i in mylist4:\n",
    "    total += i\n",
    "\n",
    "total\n",
    "for letter in 'hello':\n",
    "    print(letter)\n",
    "    \n",
    "print('\\n')    \n",
    "    \n",
    "for item in (1,2,3):\n",
    "    print(item)\n",
    "    \n",
    "print('\\n')\n",
    "\n",
    "#tuple unpacking example:\n",
    "coor1 = (3,2)\n",
    "coor2 = (8,10)\n",
    "tup_of_tups = (coor1,coor2)\n",
    "\n",
    "def distance(tup1, tup2):\n",
    "    \n",
    "    x1,y1 = tup1\n",
    "    x2,y2 = tup2\n",
    "    \n",
    "    return ((x2-x1)**2 + (y2-y1)**2)**0.5\n",
    "\n",
    "print(\"Tuple unpacking example: \", distance(coor1,coor2))\n",
    "    \n",
    "#tuple unpacking (for tuples in a list):\n",
    "mytuplist = [(1,2),(3,5),(5,6),(7,8)]\n",
    "print(len(mytuplist))\n",
    "print('\\n')\n",
    "\n",
    "for a,b in mytuplist:\n",
    "    print(a)\n",
    "    \n",
    "print('\\n')\n",
    "\n",
    "#iterate through dictionary + unpacking:\n",
    "d4 = {'key1':10, 'key2':'FUD'}\n",
    "for key,value in d4.items():\n",
    "    print(value)"
   ]
  },
  {
   "cell_type": "code",
   "execution_count": null,
   "id": "b6db8df3",
   "metadata": {},
   "outputs": [],
   "source": [
    "#while loops:\n",
    "x = 50\n",
    "while x < 5:\n",
    "    print(f'X is {x}')\n",
    "    x +=1\n",
    "else:\n",
    "    print('X Y X ')\n",
    "\n",
    "print('\\n')\n",
    "    \n",
    "#continue - goes to the top of the closest enclosing loop.\n",
    "for letter in \"Tony\":\n",
    "    if letter == 'o':\n",
    "        continue #ie: stop here and go back to the top of the loop...\n",
    "    print(letter)\n",
    "\n",
    "print('\\n')\n",
    "    \n",
    "#Break - Breaks out of the current closest enclosing loop.\n",
    "for letter in 'Tony':\n",
    "    if letter == 'y':\n",
    "        break #ie: stop this whole loop and move out of loop.\n",
    "    print(letter)\n",
    "        \n",
    "#pass - does nothing, a placeholder after a for staement to prevent a syntax error"
   ]
  },
  {
   "cell_type": "code",
   "execution_count": 151,
   "id": "b6932bf3",
   "metadata": {
    "scrolled": false
   },
   "outputs": [
    {
     "name": "stdout",
     "output_type": "stream",
     "text": [
      "1\n",
      "3\n",
      "5\n",
      "7\n",
      "9\n",
      "[1, 3, 5, 7, 9]\n",
      "\n",
      "\n",
      "(0, 'T')\n",
      "(1, 'o')\n",
      "(2, 'n')\n",
      "(3, 'y')\n",
      "\n",
      "\n",
      "(1, 'a', True)\n",
      "(2, 'b', False)\n",
      "(3, 'c', True)\n",
      "\n",
      "\n",
      "a\n",
      "b\n",
      "c\n",
      "[(1, 'a', True), (2, 'b', False), (3, 'c', True)]\n",
      "\n",
      "\n",
      "True\n",
      "True\n",
      "False\n",
      "True\n"
     ]
    }
   ],
   "source": [
    "# Operator key words.\n",
    "## Jupyter shift + tab to see more details on a method's arguments\n",
    "\n",
    "# range is similar to slice... range(start,stop,step)\n",
    "for num in range(1,10,2):\n",
    "    print(num)\n",
    "\n",
    "print(list(range(1,10,2)))\n",
    "\n",
    "print('\\n')\n",
    "\n",
    "#enumerate --> useful to create tuples of an iterable object's item and it's index\n",
    "for item in enumerate('Tony'):\n",
    "    print(item)\n",
    "\n",
    "print('\\n')\n",
    "\n",
    "#zip --> can Zip together two lists: useful in combination of unpacking, goes as far as shortest list\n",
    "zip1 = [1,2,3]\n",
    "zip2 = ['a','b','c','d']\n",
    "zip3 = [True,False,True]\n",
    "\n",
    "for item in zip(zip1,zip2,zip3):\n",
    "    print(item)\n",
    "    \n",
    "print('\\n')\n",
    "\n",
    "for a,b,c in zip(zip1,zip2,zip3):\n",
    "    print(b)\n",
    "\n",
    "print(list(zip(zip1,zip2,zip3)))\n",
    "\n",
    "print('\\n')\n",
    "# 'IN' operator checks if something is in.  Works for lists, strings, and Keys, any iterable objects\n",
    "print( 'x' in [1,2,'x'] )\n",
    "\n",
    "print ( 365 in {'k1':364, 'k2':365}.values() )\n",
    "\n",
    "# min max of a list\n",
    "print( min(zip3) )\n",
    "print( max(zip3) )"
   ]
  },
  {
   "cell_type": "code",
   "execution_count": 160,
   "id": "34b85037",
   "metadata": {},
   "outputs": [
    {
     "name": "stdout",
     "output_type": "stream",
     "text": [
      "[5, 1, 2, 3, 4]\n"
     ]
    },
    {
     "data": {
      "text/plain": [
       "51"
      ]
     },
     "execution_count": 160,
     "metadata": {},
     "output_type": "execute_result"
    }
   ],
   "source": [
    "#random, can check functions from this built in Library\n",
    "from random import shuffle\n",
    "mylist2 = [1,2,3,4,5]\n",
    "booger = shuffle(mylist2)\n",
    "\n",
    "print(mylist2)\n",
    "\n",
    "from random import randint\n",
    "randint(0,100)"
   ]
  },
  {
   "cell_type": "code",
   "execution_count": 163,
   "id": "5ce7c43f",
   "metadata": {},
   "outputs": [
    {
     "name": "stdout",
     "output_type": "stream",
     "text": [
      "Please choose a number: s\n"
     ]
    },
    {
     "data": {
      "text/plain": [
       "'s'"
      ]
     },
     "execution_count": 163,
     "metadata": {},
     "output_type": "execute_result"
    }
   ],
   "source": [
    "resultInput = str(input('Please choose a number: '))\n",
    "\n",
    "resultInput"
   ]
  },
  {
   "cell_type": "code",
   "execution_count": null,
   "id": "84d81f42",
   "metadata": {},
   "outputs": [],
   "source": [
    "#list comprehension: a flattened out for loop, created the list form the iterable items (elements)\n",
    "mylist3 = [letter for letter in 'Tony']\n",
    "print(mylist3)\n",
    "\n",
    "mylist3 = [num for num in range(0,11)]\n",
    "print(mylist3)\n",
    "\n",
    "#can add in logic, the first item is the indented space of the for loop:\n",
    "mylist3 = [num * 2 for num in range(0,11)]\n",
    "print(mylist3)\n",
    "\n",
    "#same but now add in if statement to end\n",
    "mylist3 = [x*2 for x in range(0,11) if x % 2==0]\n",
    "print(mylist3)\n",
    "#can also do if/else but less reasable and order changes...\n",
    "# mylist3 = [x if x%2==0 else 'Odd' for x in range(0,11)]\n",
    "\n",
    "#example:\n",
    "celcius = [0, 10, 20, 34.2]\n",
    "farenheit = [ ((9/5)*temp + 32) for temp in celcius]\n",
    "print(farenheit)\n",
    "\n",
    "#example2\n",
    "farenheit2 = []\n",
    "for temp in celcius:\n",
    "    farenheit2.append((9/5)*temp+32)\n",
    "    \n",
    "farenheit2"
   ]
  },
  {
   "cell_type": "code",
   "execution_count": null,
   "id": "3c01f5e9",
   "metadata": {},
   "outputs": [],
   "source": [
    "#embedded for loops\n",
    "mymylist = []\n",
    "for x in [2,4,6]:\n",
    "    for y in [1,10,100]:\n",
    "        mymylist.append(x*y)\n",
    "    \n",
    "print(mymylist)\n"
   ]
  },
  {
   "cell_type": "code",
   "execution_count": null,
   "id": "5642ba46",
   "metadata": {},
   "outputs": [],
   "source": [
    "#Methods\n",
    "\n",
    "help([].insert)"
   ]
  },
  {
   "cell_type": "code",
   "execution_count": null,
   "id": "23163ecc",
   "metadata": {},
   "outputs": [],
   "source": [
    "#Functions\n",
    "def say_name(name='whtevrt'):\n",
    "    return name\n",
    "\n",
    "say_name()"
   ]
  },
  {
   "cell_type": "code",
   "execution_count": 164,
   "id": "d9bbccac",
   "metadata": {},
   "outputs": [
    {
     "name": "stdout",
     "output_type": "stream",
     "text": [
      "(4, 'yy', True)\n",
      "{'fruite': 'apple', 'veggie': 'Brocoli'}\n",
      "\n",
      "\n",
      "(10, 20, 30)\n",
      "{'fruit': 'orange', 'food': 'Wendys Baconator', 'animal': 'dog'}\n",
      "I would like 10 Wendys Baconator.\n"
     ]
    }
   ],
   "source": [
    "# *args --> arguments --> can pass in any amount of arguments as you want, treats a tuple of arguments.\n",
    "\n",
    "# ** kwargs --> keyword arguments, returns a dictionary of arguments\n",
    "\n",
    "\n",
    "def args_example(*args):\n",
    "    print(args)\n",
    "    \n",
    "args_example(4,'yy',True)\n",
    "\n",
    "\n",
    "def kwargs_example(**kwargs):\n",
    "    print(kwargs)\n",
    "    print('\\n')\n",
    "    \n",
    "kwargs_example(fruite='apple', veggie='Brocoli')\n",
    "\n",
    "def both_example(*args,**kwargs):\n",
    "    print(args)\n",
    "    print(kwargs)\n",
    "    print(f\"I would like {args[0]} {kwargs['food']}.\")\n",
    "    \n",
    "both_example(10,20,30, fruit='orange', food='Wendys Baconator', animal='dog')"
   ]
  },
  {
   "cell_type": "code",
   "execution_count": 165,
   "id": "186e75aa",
   "metadata": {},
   "outputs": [
    {
     "data": {
      "text/plain": [
       "'aNtHrOpOmOrPhIsM'"
      ]
     },
     "execution_count": 165,
     "metadata": {},
     "output_type": "execute_result"
    }
   ],
   "source": [
    "def cammel_case(str):\n",
    "    str = str.upper()\n",
    "    str_list = list(str)\n",
    "    str_list[0] = str_list[0].lower()\n",
    "    i = 1\n",
    "    while i < len(str_list):\n",
    "        if i % 2 == 0:\n",
    "            str_list[i] = str_list[i].lower()\n",
    "            \n",
    "        i += 1\n",
    "\n",
    "    return ''.join(str_list)\n",
    "\n",
    "cammel_case(\"Anthropomorphism\")"
   ]
  },
  {
   "cell_type": "code",
   "execution_count": 167,
   "id": "7d55aea0",
   "metadata": {},
   "outputs": [
    {
     "name": "stdout",
     "output_type": "stream",
     "text": [
      "Not Prime\n"
     ]
    }
   ],
   "source": [
    "def check_if_prime(digit): \n",
    "    how_many_dividors = []\n",
    "    for item in list(range(2,digit+1)):\n",
    "        if digit % item == 0:\n",
    "            how_many_dividors.append(item)\n",
    "        \n",
    "    if len(how_many_dividors) == 1:\n",
    "        print('Prime Number')\n",
    "    else:\n",
    "        print('Not Prime')\n",
    "\n",
    "check_if_prime(92)"
   ]
  },
  {
   "cell_type": "code",
   "execution_count": null,
   "id": "c771879e",
   "metadata": {},
   "outputs": [],
   "source": [
    "#Lamba Expressions: Map & Filter **WHAT ABOUT REDUCE!!???\n",
    "\n",
    "#Filter: iterates returns all items that are true, so the function has to return a boolean\n",
    "some_nums = [2,3,4,5,6,7,8]\n",
    "\n",
    "def check_evens2(num):\n",
    "    return num % 2 == 0 \n",
    "\n",
    "filtered_list = list(filter(check_evens2,some_nums))\n",
    "\n",
    "#can either transform into a list\n",
    "print(filtered_list)\n",
    "#re-written as lambda:\n",
    "print(list(filter(lambda num : num%2==0, some_nums)))\n",
    "\n",
    "print('\\n')\n",
    "#or iterate through the results of the filter function:\n",
    "for n in filter(check_evens2,some_nums):\n",
    "    print(n)\n",
    "\n",
    "print('\\n')    \n",
    "#map:\n",
    "def make_sq_root(num):\n",
    "    result = num ** 0.5\n",
    "    return result\n",
    "\n",
    "mapped_list = list(map(make_sq_root,some_nums))\n",
    "print(mapped_list)\n",
    "\n",
    "\n",
    "#lambda can simplify a function: also known as an anonymous function\n",
    "\n",
    "#step 1\n",
    "def squared(num):\n",
    "    result = num ** 2\n",
    "    return result\n",
    "\n",
    "#step 2: can be re-written as one line but bad coding styling:\n",
    "def squared1(num): return num ** 2\n",
    "\n",
    "#step 3: written as lambda, since only generally used once it doesn't need a named\n",
    "lambda num: num ** 2\n",
    "\n",
    "#can be assigned but not really useful, more useful to add in as the function for map & filter:\n",
    "squared2 = lambda num: num ** 2\n",
    "print(squared2(4))\n",
    "\n",
    "#How Lambda is most useful:\n",
    "print(list(map(lambda num : num**2, some_nums)))\n",
    "\n",
    "#example:\n",
    "some_names = ['Tony','Robert','Anthony']\n",
    "\n",
    "list(map(lambda name:name[0],some_names))[::-1]\n"
   ]
  },
  {
   "cell_type": "code",
   "execution_count": 1,
   "id": "bfe71600",
   "metadata": {},
   "outputs": [
    {
     "name": "stdout",
     "output_type": "stream",
     "text": [
      "Hello Rokatuko\n"
     ]
    }
   ],
   "source": [
    "#Nested Statements and Scope: \n",
    "#namespace, can jump to global level\n",
    "'''LEGB:\n",
    "Local: def or lamba\n",
    "Enclosing: functions within functions, from inner to outer\n",
    "Global: top level module file or declared global in a def in the the top-level file.\n",
    "Built-in: pre-assigned in python'''\n",
    "\n",
    "#global, generally no indentation\n",
    "name = 'This is GLOBAL'\n",
    "\n",
    "def greet():\n",
    "    \n",
    "    #this is enclosing\n",
    "    name = 'Rokatuko'\n",
    "    \n",
    "    def say_hello1():\n",
    "        \n",
    "        #this is local\n",
    "        print('Hello ' + name)\n",
    "    \n",
    "    say_hello1()\n",
    "    \n",
    "greet()\n",
    "\n",
    "#avoid using global which allows you to change global namespace, better to pass in as paramter/argument\n",
    "#, reassign, then retutn the reassignment...  x = func(x) reassigned vs. reassigned using global keyword\n"
   ]
  },
  {
   "cell_type": "code",
   "execution_count": null,
   "id": "c889f9b1",
   "metadata": {},
   "outputs": [],
   "source": [
    "# set comparrisons tutorial\n",
    "\n",
    "my_list = [1,1,2,2,3,3]\n",
    "my_set = set(my_list)\n",
    "print(my_set)\n",
    "print()\n",
    "\n",
    "# union combines two sets keeps only unique\n",
    "a = {1,2,3}\n",
    "b = {3,4,5}\n",
    "c = a.union(b)\n",
    "print(c)\n",
    "print()\n",
    "\n",
    "# intersection takes two sets and only returns whats in both\n",
    "a = {1,2,3}\n",
    "b = {3,4,5}\n",
    "cc = a.intersection(b)\n",
    "print(cc)\n",
    "print()\n",
    "\n",
    "# Difference takes anything in one set that is NOT in another!\n",
    "a = {1,2,3}\n",
    "b = {3,4,5}\n",
    "ccc = a.difference(b)\n",
    "ddd = b.difference(a)\n",
    "print(ccc)\n",
    "print(ddd)\n",
    "print()\n",
    "\n",
    "# Symmetric difference will filter out anything common in both Sets\n",
    "a = {1,2,3}\n",
    "b = {3,4,5}\n",
    "cccc = a.symmetric_difference(b)\n",
    "dddd = b.symmetric_difference(a)\n",
    "print(cccc)\n",
    "print()\n",
    "\n",
    "# Subset, is A a subset of B?  Returns Boolean\n",
    "aa = {1,2,3}\n",
    "bb = {1,2,3,4,5}\n",
    "c5 = aa.issubset(bb)\n",
    "d5 = bb.issubset(aa)\n",
    "print(c5)\n",
    "print(d5)\n",
    "print()\n",
    "\n",
    "# SuperSet, does A have everything another set does, does A encompas B?\n",
    "aaa = {1,2,3,4,5}\n",
    "bbb = {1,2,3}\n",
    "c6 = aaa.issuperset(bbb)\n",
    "d6 = bbb.issuperset(aaa)\n",
    "print(c6)\n",
    "print(d6)"
   ]
  },
  {
   "cell_type": "code",
   "execution_count": null,
   "id": "748c3f8f",
   "metadata": {},
   "outputs": [],
   "source": [
    "def user_choice1():\n",
    "    #initial Choice variables\n",
    "    choice = 'Wrong'\n",
    "    acceptable_range = range(0,10+1)\n",
    "    within_range = False\n",
    "    \n",
    "    #two conditions to check for \n",
    "    while choice.isdigit() == False or within_range == False:\n",
    "        \n",
    "        choice = input('Pls enter a number: 0 - 10: ')\n",
    "        \n",
    "        #digit check\n",
    "        if choice.isdigit() == False:\n",
    "            print(\"Follow the rules dummy! That's not s digit!\")\n",
    "    \n",
    "        #range check\n",
    "        if choice.isdigit() == True:\n",
    "            if int(choice) in acceptable_range:\n",
    "                within_range = True\n",
    "            else:\n",
    "                within_range = False\n",
    "                print(\"That's out of the range you moron!\")\n",
    "            \n",
    "    return int(choice)"
   ]
  },
  {
   "cell_type": "code",
   "execution_count": 174,
   "id": "aa2e1479",
   "metadata": {},
   "outputs": [],
   "source": [
    "testingthisshit = ['WOW',2,3]"
   ]
  },
  {
   "cell_type": "code",
   "execution_count": 176,
   "id": "c8865636",
   "metadata": {},
   "outputs": [
    {
     "data": {
      "text/plain": [
       "'WOW'"
      ]
     },
     "execution_count": 176,
     "metadata": {},
     "output_type": "execute_result"
    }
   ],
   "source": [
    "testingthisshit[False]"
   ]
  },
  {
   "cell_type": "code",
   "execution_count": null,
   "id": "e320671e",
   "metadata": {},
   "outputs": [],
   "source": [
    "#checkign for two conditions in while loop:\n",
    "\n",
    "x = 2\n",
    "while x < 5 and False:\n",
    "    print(x)\n",
    "    x += 1\n",
    "\n",
    "game_board = [\"7\",\" \",\" \",\" \",\" \",\" \",\" \",\" \",\" \"]\n",
    "choice_map = {\"7\": 0, \"8\": 1, \"9\": 2, \"4\": 3, \"5\": 4, \"6\": 5, \"1\": 6, \"2\": 7, \"3\": 8, 'start': False}\n",
    "print(choice_map['start'])\n",
    "\n",
    "def check_free_square(index):\n",
    "    if index not in choice_map.keys():\n",
    "        return True\n",
    "    elif game_board[choice_map[index]] == \" \":\n",
    "        return True\n",
    "    else:\n",
    "        return False\n",
    "\n",
    "choice = None\n",
    "#valid inputs the player can choose\n",
    "valid = [\"7\",\"8\",\"9\",\"4\",\"5\",\"6\",\"1\",\"2\",\"3\"]\n",
    "\n",
    "while choice not in valid and check_free_square(choice):\n",
    "    choice = input(f'Player: Pick your Square: ')\n",
    "    print(choice)\n",
    "    if choice not in valid:\n",
    "        print('Invalid option, try again.')\n",
    "    if not check_free_square(choice):\n",
    "        print(game_board)\n",
    "        print('Square already taken, please choose again.')\n",
    "        choice = None\n",
    "\n",
    "        \n",
    "print('\\n')\n",
    "print(game_board)"
   ]
  },
  {
   "cell_type": "code",
   "execution_count": null,
   "id": "f7618d38",
   "metadata": {},
   "outputs": [],
   "source": [
    "testi_ttt_list = ['X','X','X']\n",
    "ttt_set = set(testi_ttt_list)\n",
    "print(len(ttt_set))\n",
    "ttt_set.pop()"
   ]
  },
  {
   "cell_type": "code",
   "execution_count": 2,
   "id": "29eb8225",
   "metadata": {},
   "outputs": [],
   "source": [
    "test55 = 'nog'\n",
    "\n",
    "def reset_game():\n",
    "    test55 = 'test'\n",
    "    return test55"
   ]
  },
  {
   "cell_type": "code",
   "execution_count": 3,
   "id": "0a220a1f",
   "metadata": {},
   "outputs": [
    {
     "data": {
      "text/plain": [
       "'nog'"
      ]
     },
     "execution_count": 3,
     "metadata": {},
     "output_type": "execute_result"
    }
   ],
   "source": [
    "test55"
   ]
  },
  {
   "cell_type": "code",
   "execution_count": 5,
   "id": "70ecc9f9",
   "metadata": {},
   "outputs": [],
   "source": [
    "test55 = reset_game()"
   ]
  },
  {
   "cell_type": "code",
   "execution_count": 9,
   "id": "5f53b555",
   "metadata": {},
   "outputs": [
    {
     "name": "stdout",
     "output_type": "stream",
     "text": [
      "Current time is: 11:04:18\n"
     ]
    }
   ],
   "source": [
    "from datetime import datetime\n",
    "import pytz\n",
    "\n",
    "# Get the timezone object for New York\n",
    "tz_TK = pytz.timezone('Asia/Tokyo') \n",
    "\n",
    "# Get the current time in New York\n",
    "datetime_TK = datetime.now(tz_TK)\n",
    "\n",
    "# Format the time as a string and print it\n",
    "print(\"Current time is:\", datetime_TK.strftime(\"%H:%M:%S\"))"
   ]
  },
  {
   "cell_type": "code",
   "execution_count": null,
   "id": "8ba7dacb",
   "metadata": {},
   "outputs": [],
   "source": [
    "## OOP - Object Oriented Programming ## Class Structure, classes are in CammelCase\n",
    "\n",
    "# self connects methods to a class.  SO this looks like a function but its actually a method of the class.\n",
    "\n",
    "class NameOfClass():\n",
    "    \n",
    "    def __init__(self,param1,param2):\n",
    "        self.param1 = param1\n",
    "        self.param2 = param2\n",
    "\n",
    "    def some_method(self):\n",
    "        #perform some action\n",
    "        print(self.param1)"
   ]
  },
  {
   "cell_type": "code",
   "execution_count": 6,
   "id": "1bec0942",
   "metadata": {},
   "outputs": [
    {
     "data": {
      "text/plain": [
       "__main__.Sample"
      ]
     },
     "execution_count": 6,
     "metadata": {},
     "output_type": "execute_result"
    }
   ],
   "source": [
    "#create the class\n",
    "class Sample():\n",
    "    #create an attribute in the class, when a function is inside a class it's a method\n",
    "    # the __init__ method is called whenever there is an instance of the class, and the self allows it refer it to itself\n",
    "    pass  \n",
    "\n",
    "#create an instance of the class\n",
    "my_sample = Sample()\n",
    "\n",
    "type(my_sample)"
   ]
  },
  {
   "cell_type": "code",
   "execution_count": 7,
   "id": "28de3652",
   "metadata": {},
   "outputs": [
    {
     "name": "stdout",
     "output_type": "stream",
     "text": [
      "<class 'list'>\n",
      "<class '__main__.Dog'>\n"
     ]
    },
    {
     "data": {
      "text/plain": [
       "'Lab'"
      ]
     },
     "execution_count": 7,
     "metadata": {},
     "output_type": "execute_result"
    }
   ],
   "source": [
    "#class example\n",
    "\n",
    "class Dog():\n",
    "    #init method is the constructer of the class, self is the instance of the object itself, \n",
    "    #self is a reference to the instance of the class...\n",
    "    def __init__(self, breed):\n",
    "        #attributes are characteristics of the object.\n",
    "        #we take in the argument and assign it using self.attribute_name\n",
    "        #general convention is for the argument to be same name as attribute \n",
    "        self.breed = breed  #this is an attribute which is assigned to the argument.\n",
    "        \n",
    "\n",
    "#When you create an instance of the dog class, python will call the __init__ method and and use self \n",
    "#to represent the instance of the object itself\n",
    "#python expects you to pass in the argument breed\n",
    "my_dog = Dog(breed=\"Lab\")\n",
    "\n",
    "print(type([1,2,3]))\n",
    "print(type(my_dog))\n",
    "my_dog.breed"
   ]
  },
  {
   "cell_type": "code",
   "execution_count": null,
   "id": "f153361f",
   "metadata": {},
   "outputs": [],
   "source": [
    "#adding more attributes, for example I'll start a new class\n",
    "\n",
    "class Cat():\n",
    "    \n",
    "    #Class Object Attribute, it will be the same for any instance of a class. \n",
    "    #This attribute is define above the init method.\n",
    "    #this does not need a self keywork, the self only applies to a specific instance of a class,\n",
    "    #whereas this class object atribute is the same for any instance.\n",
    "    species = 'mammal'\n",
    "    \n",
    "    def __init__(self, breed, name, spots, age):\n",
    "        #expect string for this attribute\n",
    "        self.breed = breed\n",
    "        #expect string for this attribute\n",
    "        self.name = name\n",
    "        #expect boolean for this attribute\n",
    "        self.spots = spots\n",
    "        #expect a number for this attribute, you use type control to ensure it's number...\n",
    "        self.age = age\n",
    "        \n",
    "        #methods are functions defined inside the body of the class, and used to perform operations that can \n",
    "        #utilize the actual attributes of the object (ass) we created.\n",
    "            #Methods can take outside arguments, \n",
    "            #does not need self in this case since not connected to specific instance of the class\n",
    "    def meow(self, food):\n",
    "        print(f'\\n Nyaa... My Name is {self.name} and I like {food}! \\n')\n",
    "\n",
    "#use shift+tab to see what attributes are needed to create an instance of this class\n",
    "my_cat = Cat(breed=\"Tabby\",name=\"Jet\",spots=True,age=11)\n",
    "\n",
    "#you can call these to check what the instance of the attribute in that class is\n",
    "print(my_cat.spots)\n",
    "#attributes can be called, nothing to execute, no brackets needed\n",
    "print(my_cat.species)\n",
    "\n",
    "\n",
    "second_cat = Cat(\"Siamese\",\"Nok\",False,\"27\")\n",
    "\n",
    "second_cat.meow('Pizza')\n",
    "\n",
    "\n",
    "#another example:\n",
    "\n",
    "class Circle():\n",
    "    # Class Object Attribute\n",
    "    pi = 3.14\n",
    "    \n",
    "    #can define default values\n",
    "    def __init__(self,radius=1):\n",
    "        self.radius = radius\n",
    "        # an attribute doesn't have to be in the argument:\n",
    "        #### the Class Object Attribute can be references as \"Circle.pi\" instead of self !!\n",
    "        self.area = self.pi * radius**2\n",
    "        \n",
    "    # Method.  Has self so it can reference the particular instance of the object\n",
    "    def get_circumference(self):\n",
    "        return self.radius * self.pi * 2\n",
    "    \n",
    "# let's create an instance of Circle class called circle 1\n",
    "## the init method automatically gets executed when you create an instance of it's class\n",
    "my_circle1 = Circle()\n",
    "\n",
    "# let's create an instance of Circle class called circle 2, but overwriting the default value for radius\n",
    "my_circle2 = Circle(100)\n",
    "\n",
    "#Notice Pi is same for both instances of the circle class!\n",
    "print(my_circle1.pi)\n",
    "print(my_circle2.pi)\n",
    "#notice the default value of 1\n",
    "print('\\n',my_circle1.radius,'\\n')\n",
    "\n",
    "print(my_circle1.get_circumference())\n",
    "print(my_circle2.get_circumference())\n",
    "my_circle2.area\n",
    "\n",
    "#bank homework\n",
    "class BankAccount():\n",
    "    \n",
    "    def __init__(self, owner, balance=0):\n",
    "        self.owner = owner\n",
    "        self.balance = balance\n",
    "        print(f'Congrats for opening this account! Balance is now: ${balance}')\n",
    "        \n",
    "    def bank_deposit(self, amount):\n",
    "        self.balance = self.balance + amount\n",
    "        print(f'Current balance is now: ${self.balance}')\n",
    "        \n",
    "    def withdrawal(self, amount):\n",
    "        if amount > self.balance:\n",
    "            print(f'You do not have enough Balance, pls withdraw up to {self.balance}')\n",
    "        else:\n",
    "            self.balance = self.balance - amount\n",
    "            print(f'Current balance is now: ${self.balance}')\n",
    "            \n",
    "    def __del__(self):\n",
    "        print(f'{self.owner}''s bank account is now closed.')\n",
    "        \n",
    "    def __str__(self):\n",
    "        return f'Owner: {self.owner}\\nBalance: {self.balance}'\n",
    "    \n",
    "tony = BankAccount('Tony',100)\n",
    "ryan = BankAccount('Ryan',150)\n",
    "van = BankAccount('Van',300)\n",
    "print(van)\n",
    "\n",
    "for account in [tony, ryan, van]:\n",
    "    print(account.balance)"
   ]
  },
  {
   "cell_type": "code",
   "execution_count": 10,
   "id": "8aa6ea4e",
   "metadata": {},
   "outputs": [
    {
     "name": "stdout",
     "output_type": "stream",
     "text": [
      "Animal Created\n",
      "I am eating \n",
      "\n",
      "I am an Animal - ORIGINALLLLLLLLL\n",
      "Animal Created\n",
      "Bird Created\n",
      "Lizard Created\n",
      " \n",
      "I am an Animal - ORIGINALLLLLLLLL\n",
      "I am an Animal - Newwwwwww ! ! ! \n",
      "I am an Animal - ORIGINALLLLLLLLL\n",
      "I am a Geko ...\n",
      " \n",
      "<class '__main__.Bird'>\n",
      "I am an Animal - Newwwwwww ! ! ! \n",
      "<class '__main__.Animal'>\n",
      "I am an Animal - ORIGINALLLLLLLLL\n",
      "<class '__main__.Lizard'>\n",
      "I am an Animal - ORIGINALLLLLLLLL\n"
     ]
    }
   ],
   "source": [
    "# OOP - inheritance and polymorphism.\n",
    "\n",
    "# Inheritance is a way to form new classes using classes that have already been defined\n",
    "\n",
    "#example, create a base class:\n",
    "class Animal():\n",
    "    \n",
    "    def __init__(self):\n",
    "        print(\"Animal Created\")\n",
    "        \n",
    "    def who_am_i(self):\n",
    "        print(\"I am an Animal - ORIGINALLLLLLLLL\")\n",
    "        \n",
    "    def eat(self):\n",
    "        print(\"I am eating \\n\")\n",
    "        \n",
    "# will print \"Animal created\" because the init method automatically gets executed when we create an Animal class instance.\n",
    "myanimal = Animal()\n",
    "myanimal.eat()\n",
    "myanimal.who_am_i()\n",
    "\n",
    "# A newly formed class can use a base class (The Animal class in this ex.) in order to inherit some it's methods.\n",
    "## A derived class because it derivs from Animal\n",
    "class Bird(Animal):\n",
    "    \n",
    "    # we will create an instance of Animal class when we create an instance of Bird class because it inherents.\n",
    "    # Bird will inherit the methods of Animal\n",
    "    def __init__(self):\n",
    "        Animal.__init__(self)\n",
    "        print(\"Bird Created\")\n",
    "        \n",
    "    # to overwrite a method inherited just use the same method name:\n",
    "    def who_am_i(self):\n",
    "        print(\"I am an Animal - Newwwwwww ! ! ! \")\n",
    "\n",
    "class Lizard(Animal):\n",
    "    def __init__(self):\n",
    "        print(\"Lizard Created\")\n",
    "        \n",
    "    def what_kind(self, species):\n",
    "        print(f'I am a {species} ...')\n",
    "\n",
    "mybird = Bird()\n",
    "mylizard = Lizard()\n",
    "\n",
    "print(\" \")\n",
    "\n",
    "myanimal.who_am_i()\n",
    "mybird.who_am_i()\n",
    "mylizard.who_am_i()\n",
    "mylizard.what_kind('Geko')\n",
    "\n",
    "print(\" \")\n",
    "\n",
    "# you can iterate through classes:\n",
    "for pet_class in [mybird, myanimal, mylizard]:\n",
    "    print(type(pet_class))\n",
    "    pet_class.who_am_i()\n",
    "\n",
    "# Methods belong to the objects they act on.\n",
    "## Polymorphism is where two Classes may have the same method \"speak\" but Dog says Woof while Cat says Meow,\n",
    "## so you can leverage this by iteratign through that method or passing it into a function but would get different\n",
    "## object specific results.\n",
    "\n",
    "# Abstract Classes & Inheritance are not meant to be created as an instance but rather to serve as a base class inheritance.\n",
    "     "
   ]
  },
  {
   "cell_type": "code",
   "execution_count": null,
   "id": "9b2ea7af",
   "metadata": {},
   "outputs": [],
   "source": [
    "# special Methods: allows us to use some built in operators in python such as the length or \n",
    "# print function to our own user defines objects...\n",
    "\n",
    "## check Python docs for many more special or \"Dunder\" methods... dunder = double underscore\n",
    "class Book():\n",
    "    \n",
    "    def __init__(self, title, author, pages):\n",
    "        self.title = title\n",
    "        self.author = author\n",
    "        self.pages = pages\n",
    "        \n",
    "    #special method for the print function, created a string representation of the object\n",
    "    def __str__(self):\n",
    "        return f\"{self.title} by {self.author} has {self.pages}.\"\n",
    "    \n",
    "    #special method for length\n",
    "    def __len__(self):\n",
    "        return self.pages\n",
    "    \n",
    "    #for when you delete a class object instance you can have it do stuff:\n",
    "    def __del__(self):\n",
    "        print(\"A book was deleted\")\n",
    "    \n",
    "b = Book(\"FOrgot name\",\"Orwell\",200)\n",
    "\n",
    "print(myanimal)\n",
    "# vs. the Book class with the special method\n",
    "print(b)\n",
    "#note the str method works too because it's the same\n",
    "print(str(myanimal))\n",
    "print(str(b))\n",
    "print(len(b))\n",
    "\n",
    "del b"
   ]
  },
  {
   "cell_type": "code",
   "execution_count": null,
   "id": "9aea1ad2",
   "metadata": {},
   "outputs": [],
   "source": [
    "#Packages and Modules...  From PyPi can get many types of libraries, can google \"python package for excel\"\n",
    "\n",
    "# Modules are just .py scripts that you call in another .py script\n",
    "# Packages are a collection of MOdules, can aggregate modules together to form a package.\n",
    "#  - In order to trease a folder (directory path) as a package ant justa normal directory, reate the __init__.py file...\n",
    "#  - this is for python to understand the directory is a package\n",
    "\n",
    "''' __name__ is a built in python variable that gets assigned a string \"__main__\", python does this in the background.\n",
    "#  SO adding in the code below at the end of script confirms all the non indented code preceeding it has run\n",
    "ie (functions defined, classes defined) and that the file is running, you can then \n",
    "add any functions or whatever logic you want to execute in the body of the if statement.  \n",
    "A common structure for large scripts.\n",
    "\n",
    "This will allow you to determine the main script vs. an imported module\n",
    "\n",
    "if __name__ == \"__main__\":\n",
    "    some_function_1()\n",
    "    some_function_2()\n",
    "    whatever_code()\n",
    "else:\n",
    "    print('This is not the main script, just an import')\n",
    "\n",
    "'''"
   ]
  },
  {
   "cell_type": "code",
   "execution_count": 6,
   "id": "e436964e",
   "metadata": {},
   "outputs": [
    {
     "name": "stdout",
     "output_type": "stream",
     "text": [
      "20 \n",
      "\n",
      "Are you sure you're adding up two integers? \n",
      "\n",
      "You have an OSError, you don't have write access to the file\n",
      "I always run\n",
      "4\n",
      "3025\n",
      "Please provide number: \n",
      "5\n",
      "Good, job, Your number is 5. \n",
      "\n",
      "End of try/except/finally, I always run \n",
      "\n"
     ]
    }
   ],
   "source": [
    "#error handling\n",
    "\n",
    "try:\n",
    "    # This is the code you want to attempt to run, it may have an error\n",
    "    result = 10 + 10\n",
    "except:\n",
    "    print(\"Are you sure you're adding up two integers?\")\n",
    "else:\n",
    "    print(result, \"\\n\")\n",
    "    \n",
    "# Example 2   \n",
    "try:\n",
    "    # This is the code you want to attempt to run, it may have an error\n",
    "    result = 10 + \"10\"\n",
    "except:\n",
    "    print(\"Are you sure you're adding up two integers? \\n\")\n",
    "else:\n",
    "    print(result)\n",
    "\n",
    "#another example    \n",
    "try:\n",
    "    f = open('testfile','r')\n",
    "    f.write(\"Write a test line\")\n",
    "except TypeError:\n",
    "    print(\"There was a type error !\")\n",
    "except OSError:\n",
    "    print(\"You have an OSError, you don't have write access to the file\")\n",
    "except:\n",
    "    print(\"all other non-specified exceptions\")\n",
    "finally: \n",
    "    #this will always execute\n",
    "    print(\"I always run\")\n",
    "    \n",
    "# another example 2\n",
    "def example_while_try_except():\n",
    "    while True:\n",
    "        try:\n",
    "            pass\n",
    "        except:\n",
    "            break\n",
    "        else:\n",
    "            print(\"I'll run once\")\n",
    "            break\n",
    "\n",
    "#example 5\n",
    "for i in ['a',2,'b','c',55]:\n",
    "    try:\n",
    "        print(i**2)\n",
    "    except TypeError:\n",
    "        pass\n",
    "        print(f\"Sry, item {i} in the list needs to be a number ya foo!\")\n",
    "    \n",
    "def ask_for_int():\n",
    "    \n",
    "    while True:\n",
    "        try:\n",
    "            result = int(input(\"Please provide number: \\n\"))\n",
    "        except:\n",
    "            print(\"That's not a number, foo! \\n\")\n",
    "            continue\n",
    "        else:\n",
    "            print(f\"Good, job, Your number is {result}. \\n\")\n",
    "            break\n",
    "        finally: \n",
    "            print(\"End of try/except/finally, I always run \\n\")\n",
    "\n",
    "ask_for_int()"
   ]
  },
  {
   "cell_type": "code",
   "execution_count": 1,
   "id": "aa6fea11",
   "metadata": {},
   "outputs": [],
   "source": [
    "# to get pylint error report\n",
    "#  pylint myexample.py -r y\n",
    "\n",
    "#for Unit test (unittest), its best to go from simple to more comple\n",
    "\n",
    "#ended here in May 2023, can go back to complete the \"Section 11 Milestone project, war card game & Black jack\"..."
   ]
  },
  {
   "cell_type": "code",
   "execution_count": 24,
   "id": "9348149e",
   "metadata": {},
   "outputs": [
    {
     "name": "stdout",
     "output_type": "stream",
     "text": [
      "\t I am the coolest\n",
      "\n",
      "Independent code running here\n",
      "\t I was passed in\n",
      ".\n",
      "Do some code before running the original passed in function\n",
      "\n",
      "\tIm a function that needs a decorator!\n",
      "\n",
      "Do some code after running the original passed in function, hence wrapping it\n",
      "\n",
      "Do some code before running the original passed in function\n",
      "\n",
      "\tIm also a another funtion that needs a decorator...\n",
      "\n",
      "Do some code after running the original passed in function, hence wrapping it\n",
      "\n",
      "Independent code running here\n",
      "Lets see if this worked\n",
      "None\n"
     ]
    }
   ],
   "source": [
    "#Python Decorators: (Picked back up Dec 2023...)\n",
    "\n",
    "#Allows you to tack on extra functionlity to an already existing function, and if you no longer\n",
    "#want that functionality you can just delete that one line from the decorator, they use the @ operator.\n",
    "\n",
    "def func22():\n",
    "    return 1\n",
    "\n",
    "def hello():\n",
    "    return 'Hello'\n",
    "\n",
    "greet = hello\n",
    "\n",
    "#hello is still in memory after deleting but now just assigned to variable 'greet'\n",
    "del hello\n",
    "\n",
    "greet()\n",
    "\n",
    "#functions are objects than can be passed into other objects.\n",
    "# ex: Have a funtion return another function and assign to varable to store\n",
    "def cool():\n",
    "    \n",
    "    def super_cool():\n",
    "        return '\\t I am the coolest\\n'\n",
    "    \n",
    "    return super_cool\n",
    "\n",
    "some_cool_func = cool()\n",
    "\n",
    "print(some_cool_func())\n",
    "some_cool_func()\n",
    "\n",
    "#passing in a function as an argument ex:\n",
    "def func_to_pass():\n",
    "    return '\\t I was passed in\\n.'\n",
    "\n",
    "def other_func(some_defined_func):\n",
    "    print('Independent code running here')\n",
    "    print(some_defined_func())\n",
    "    \n",
    "other_func(func_to_pass)\n",
    "\n",
    "#decorator ex:\n",
    "# We take in a function that wants a decorator, \n",
    "#  wrapping into some extra stuff and return the wrapped version of the that function.  Hence it\\s now wraped 'Decorated'...\n",
    "\n",
    "#logig behind:\n",
    "def new_decorator(original_function):\n",
    "    \n",
    "    def wrapped_func():\n",
    "        print('Do some code before running the original passed in function\\n')\n",
    "        original_function()\n",
    "        print('Do some code after running the original passed in function, hence wrapping it\\n')\n",
    "        \n",
    "    return wrapped_func\n",
    "\n",
    "#let's define some random function that needs a decorator:\n",
    "def func_needs_decorator():\n",
    "    print('\\tIm a function that needs a decorator!\\n')\n",
    "          \n",
    "#the end result dis the decorated function:\n",
    "decorated_function = new_decorator(func_needs_decorator)\n",
    "\n",
    "decorated_function()\n",
    "\n",
    "#the @ symbol acts as an on/off switch when you comment it out or keep it.  Useful for leveraging code in libraries.\n",
    "# the function after the @ must actually be meant to take in a function though, \n",
    "# needs to be on top of the function to be decorated\n",
    "@new_decorator\n",
    "def another_func_that_needs_a_decorator():\n",
    "    print('\\tIm also a another funtion that needs a decorator...\\n')\n",
    "\n",
    "another_func_that_needs_a_decorator()\n",
    "\n",
    "#ex 2\n",
    "@other_func\n",
    "def test_decorator():\n",
    "    print('Lets see if this worked')"
   ]
  },
  {
   "cell_type": "code",
   "execution_count": 46,
   "id": "5c6c805b",
   "metadata": {},
   "outputs": [
    {
     "name": "stdout",
     "output_type": "stream",
     "text": [
      "0\n",
      "1\n",
      "8\n",
      "27\n",
      "64\n",
      "\n",
      "\n",
      "0\n",
      "1\n",
      "8\n",
      "27\n",
      "64\n",
      "\n",
      "\n",
      "0\n",
      "1\n",
      "8\n",
      "27\n",
      "64\n",
      "\n",
      "\n",
      "h\n",
      "e\n",
      "l\n"
     ]
    }
   ],
   "source": [
    "#generators\n",
    "#Generator functions allow us to write a function tht can send back \n",
    "#a value and then later resume to pick up where it left off.\n",
    "# generatos allow you to generate a sequence of values over time.\n",
    "\n",
    "## the range(0,10) function itself is a generator its referencing the last number and step size to generate the range,\n",
    "## rather then store in a list, for that you'd to specifically do list(range(0,10)). This is wht yeild does, it calc the \n",
    "## next item in the seuqnce but not stored to memeory.  the NEXT function will calc the next item to be yeilded.\n",
    "\n",
    "#this function stores the results in a list which can drain memory, results are apended, but yeild doesn't store.\n",
    "def create_cubes(num):\n",
    "    result = []\n",
    "    for x in range(num):\n",
    "        result.append(x**3)\n",
    "    return result\n",
    "\n",
    "create_cubes(5) #--> [0, 1, 8, 27, 64]\n",
    "\n",
    "for x in create_cubes(5):\n",
    "    print(x)\n",
    "    \n",
    "#can be re-writted using yield to yield the cubed numbers\n",
    "def yielded_cubes(num):\n",
    "    for n in range(num):\n",
    "        yield n**3\n",
    "\n",
    "yielded_cubes(5) # --> turned into a generator object <generator object yielded_cubes at 0x0000025D89C16400>\n",
    "\n",
    "print('\\n')\n",
    "#to get the numbers from the generator object you need to iterate it.  It generates values as you go.\n",
    "\n",
    "for item in yielded_cubes(5):\n",
    "    print(item)\n",
    "\n",
    "list(yielded_cubes(5)) # --> if you want the generator list stored you can convert to one\n",
    "\n",
    "my_generator = yielded_cubes(5)\n",
    "\n",
    "print('\\n')\n",
    "#manually iterate using next,  the 'NEXT' function will calc the next item to be yeilded.\n",
    "print(next(my_generator))\n",
    "print(next(my_generator))\n",
    "print(next(my_generator))\n",
    "print(next(my_generator))\n",
    "print(next(my_generator))\n",
    "\n",
    "print('\\n')\n",
    "## ITER allows you to iterate, to turn a string into a generator that we can iterate over. ie: can call next on the string.\n",
    "s = 'hello'\n",
    "s_iter = iter(s)  # --> Allows you to use the next to iterate over the generator version of the string.\n",
    "print(next(s_iter))\n",
    "print(next(s_iter))\n",
    "print(next(s_iter))\n",
    "print(next(s_iter))\n",
    "print(next(s_iter))"
   ]
  },
  {
   "cell_type": "code",
   "execution_count": 8,
   "id": "95182154",
   "metadata": {},
   "outputs": [
    {
     "name": "stdout",
     "output_type": "stream",
     "text": [
      "Counter({'l': 7, 'f': 4, 'g': 4, 'h': 4, 'j': 2, 's': 1, 'd': 1, 'e': 1, 'r': 1})\n",
      "Counter({'word': 2, 'how': 1, 'many': 1, 'times': 1, 'does': 1, 'each': 1, 'appear': 1})\n",
      "[('l', 7), ('f', 4), ('g', 4)]\n",
      "Default value as key was not found...\n",
      "defaultdict(<function <lambda> at 0x000002AC763E54E0>, {'b': 'Default value as key was not found...', 'c': 'UFC296', 'd': 'Default value as key was not found...'})\n"
     ]
    }
   ],
   "source": [
    "#Collections Module\n",
    "from collections import Counter\n",
    "\n",
    "mylist = [1,1,1,1,2,2,2,3,3,3,3,3,3,3,3,4,'a','a']\n",
    "#counts all instances of items and returns dictionary\n",
    "Counter(mylist)\n",
    "\n",
    "#works for strings too\n",
    "str1 = 'fghfhgfghfghsderjjlllllll'\n",
    "c = Counter(str1)\n",
    "print(c)\n",
    "\n",
    "sentence = 'how many times does each word appear word'\n",
    "print(Counter(sentence.split()))\n",
    "\n",
    "#check most common 3 letters\n",
    "print(c.most_common(3)) # --> results in tuples\n",
    "\n",
    "from collections import defaultdict\n",
    "dict = {'a':10}\n",
    "\n",
    "#with defaultdict you can store a value for a key that isn't in the dictionary rather then getting a KeyError\n",
    "#d['b'] would give a key error but:\n",
    "dict = defaultdict(lambda : 'Default value as key was not found...')\n",
    "\n",
    "print(dict['b'])\n",
    "dict['c'] = 'UFC296'\n",
    "dict['d']\n",
    "print(dict)\n",
    "\n",
    "#names tuple, expands tuple with names indices: lesson 104"
   ]
  },
  {
   "cell_type": "code",
   "execution_count": 5,
   "id": "44b92225",
   "metadata": {},
   "outputs": [
    {
     "data": {
      "text/plain": [
       "'C:\\\\Users\\\\AnthonyRandazzo\\\\Documents\\\\Python Scripts'"
      ]
     },
     "execution_count": 5,
     "metadata": {},
     "output_type": "execute_result"
    }
   ],
   "source": [
    "pwd  #only works in it\\s own cell and for Jupyter"
   ]
  },
  {
   "cell_type": "code",
   "execution_count": 15,
   "id": "f4c4cfd6",
   "metadata": {},
   "outputs": [
    {
     "name": "stdout",
     "output_type": "stream",
     "text": [
      "C:\\Users\\AnthonyRandazzo\\Documents\\Python Scripts\n"
     ]
    },
    {
     "data": {
      "text/plain": [
       "'C:\\\\Users\\\\AnthonyRandazzo\\\\Documents\\\\practice.txt'"
      ]
     },
     "execution_count": 15,
     "metadata": {},
     "output_type": "execute_result"
    }
   ],
   "source": [
    "#Files and Folders OS Module & Shell-utilities module for Moving and Deleting\n",
    "\n",
    "#create file in current working direcory (see above cell)\n",
    "f = open('practice.txt', 'w+')\n",
    "f.write('This is test text')\n",
    "f.close()\n",
    "\n",
    "import os\n",
    "print(os.getcwd())  #gets the current workign directory (getcwd) for any platform\n",
    "os.listdir()  #lists everything in current dir\n",
    "os.listdir('C:\\\\Users\\\\')  # also specify a path\n",
    "\n",
    "#moving files around:\n",
    "import shutil\n",
    "\n",
    " #--> MOved the file from Python Scripts folder to destintion specified\n",
    "shutil.move('practice.txt','C:\\\\Users\\\\AnthonyRandazzo\\\\Documents')\n"
   ]
  },
  {
   "cell_type": "code",
   "execution_count": 17,
   "id": "0ab0ed94",
   "metadata": {},
   "outputs": [
    {
     "data": {
      "text/plain": [
       "'C:\\\\Users\\\\AnthonyRandazzo\\\\Documents\\\\Python Scripts\\\\practice.txt'"
      ]
     },
     "execution_count": 17,
     "metadata": {},
     "output_type": "execute_result"
    }
   ],
   "source": [
    "#Files and Folders conintued...\n",
    "\n",
    "#move the file back to original location (you must specify paths)\n",
    "shutil.move('C:\\\\Users\\\\AnthonyRandazzo\\\\Documents\\\\practice.txt','C:\\\\Users\\\\AnthonyRandazzo\\\\Documents\\\\Python Scripts')\n"
   ]
  },
  {
   "cell_type": "code",
   "execution_count": 20,
   "id": "a24e270a",
   "metadata": {},
   "outputs": [
    {
     "ename": "SyntaxError",
     "evalue": "(unicode error) 'unicodeescape' codec can't decode bytes in position 2-3: truncated \\UXXXXXXXX escape (1331531109.py, line 3)",
     "output_type": "error",
     "traceback": [
      "\u001b[1;36m  Cell \u001b[1;32mIn[20], line 3\u001b[1;36m\u001b[0m\n\u001b[1;33m    os.walk('C:\\Users\\AnthonyRandazzo\\Documents\\Python Scripts')\u001b[0m\n\u001b[1;37m                                                               ^\u001b[0m\n\u001b[1;31mSyntaxError\u001b[0m\u001b[1;31m:\u001b[0m (unicode error) 'unicodeescape' codec can't decode bytes in position 2-3: truncated \\UXXXXXXXX escape\n"
     ]
    }
   ],
   "source": [
    "#Files and Folders conintued...\n",
    "## OS.walk, tuple unpacking, makes a folder path tree, lesson 105 on Udemy, not that useful for now"
   ]
  },
  {
   "cell_type": "code",
   "execution_count": 74,
   "id": "f0abd765",
   "metadata": {},
   "outputs": [
    {
     "name": "stdout",
     "output_type": "stream",
     "text": [
      "14:20:01\n",
      "14\n",
      "2023-12-20\n",
      "12\n",
      "Wed Dec 20 00:00:00 2023\n",
      "type of today is <class 'datetime.date'>\n",
      "1983-07-20 14:20:55\n",
      "2023-07-20 14:20:55\n",
      "['2023', '12', '20']\n",
      "[2023, 12, 20]\n"
     ]
    },
    {
     "data": {
      "text/plain": [
       "1275523200.0"
      ]
     },
     "execution_count": 74,
     "metadata": {},
     "output_type": "execute_result"
    }
   ],
   "source": [
    "# Datetime Module\n",
    "\n",
    "import datetime\n",
    "\n",
    "mytime = datetime.time(14,20,1)\n",
    "print(mytime)\n",
    "print(mytime.hour)\n",
    "\n",
    "#for dates use date method, format is YEAR-MONTH-DAY\n",
    "today = datetime.date.today()\n",
    "print(today)\n",
    "print(today.month)\n",
    "print(today.ctime())\n",
    "print(f'type of today is {type(today)}')\n",
    "\n",
    "from datetime import datetime\n",
    "\n",
    "mydatetime = datetime(1983,7,20,14,20,55)\n",
    "print(mydatetime)\n",
    "mydatetime = mydatetime.replace(year=2023)\n",
    "print(mydatetime)\n",
    "\n",
    "#format a date\n",
    "formatted_date = str(today).split('-')\n",
    "print(formatted_date)\n",
    "\n",
    "for item in formatted_date:\n",
    "    formatted_date[formatted_date.index(item)] = int(formatted_date[formatted_date.index(item)])\n",
    "print(formatted_date)\n",
    "\n",
    "#check differences between dates\n",
    "from datetime import date\n",
    "\n",
    "date1 = date(1983,7,20)\n",
    "date2 = date(2023,12,20)\n",
    "\n",
    "days_alive = date2 - date1\n",
    "\n",
    "days_alive.days / 365\n",
    "\n",
    "#date with seconds\n",
    "date3 = datetime(1983,7,20,0,0)\n",
    "date4 = datetime(2023,12,20,0,0)\n",
    "\n",
    "seconds_alive = date4 - date3\n",
    "\n",
    "seconds_alive.total_seconds()"
   ]
  },
  {
   "cell_type": "code",
   "execution_count": 114,
   "id": "694e6779",
   "metadata": {},
   "outputs": [
    {
     "name": "stdout",
     "output_type": "stream",
     "text": [
      "4\n",
      "5\n",
      "3.141592653589793\n",
      "3.141592653589793\n",
      "74\n",
      "24\n",
      "69\n",
      "\n",
      "11\n",
      "h\n",
      "[0, 10, 12, 18, 9, 15, 6, 8, 5, 3, 8, 10, 3, 15, 4]\n",
      "[12, 13, 6, 2, 18, 7, 4, 3, 1, 10, 9, 5, 15, 19, 17]\n",
      "\n",
      "[3, 5, 1, 4, 2]\n"
     ]
    },
    {
     "data": {
      "text/plain": [
       "74.44690143237648"
      ]
     },
     "execution_count": 114,
     "metadata": {},
     "output_type": "execute_result"
    }
   ],
   "source": [
    "#math and random modules\n",
    "\n",
    "import math    #can use help(math) for full documentation and mathmatical methods yu can call\n",
    "\n",
    "value = 4.35\n",
    "print(math.floor(value)) #rounds down to nearest integer\n",
    "print(math.ceil(value))  #rounds up to nearest integer\n",
    "\n",
    "#can cell from math module\n",
    "print(math.pi.real)\n",
    "\n",
    "from math import pi\n",
    "\n",
    "print(pi.real) #because we imported the attribute pi, we can call it directly\n",
    "\n",
    "#return the log of a given base, this gives you the power it would take to for 10 to equal 100 so 10**2 = 100\n",
    "math.log(100,10)\n",
    "\n",
    "# Random numbers\n",
    "import random\n",
    "\n",
    "# A seed sets a known sequence like the generator, if you set the seed then the sequence is \n",
    "# down if you keep sunning the randint in more cells:\n",
    "random.seed(101)  \n",
    "print(random.randint(0,100)) # because we set the seet it will always be 74\n",
    "print(random.randint(0,100)) # because we set the seet it will always be 24\n",
    "print(random.randint(0,100)) # because we set the seet it will always be 69...\n",
    "print('')\n",
    "\n",
    "#grab random item in an iterable with choice\n",
    "mylist = list(range(0,20))\n",
    "mystr = 'Anthony'\n",
    "print(random.choice(mylist))\n",
    "print(random.choice(mystr))\n",
    "\n",
    "#grab multiple items:\n",
    "## Sample with replacement meaning it can be picked again, multiple times:\n",
    "print(random.choices(population=mylist,k=15))  #some numbers can be duplicated\n",
    "\n",
    "#sample without relacement!\n",
    "print(random.sample(mylist,15))  # no repeats now\n",
    "print('')\n",
    "\n",
    "#shuffle will perminently change a list\n",
    "mylist2 = [1,2,3,4,5]\n",
    "random.shuffle(mylist2)\n",
    "print(mylist2)\n",
    "\n",
    "#can use probability distribution, \n",
    "#can also do gauss (normal distribution) but should be really using numpy for advanced math!\n",
    "random.uniform(0,100)"
   ]
  },
  {
   "cell_type": "code",
   "execution_count": 4,
   "id": "88e5e658",
   "metadata": {},
   "outputs": [
    {
     "name": "stdout",
     "output_type": "stream",
     "text": [
      "--Return--\n",
      "None\n",
      "> \u001b[1;32mc:\\users\\anthonyrandazzo\\appdata\\local\\temp\\ipykernel_412\\3090674024.py\u001b[0m(11)\u001b[0;36m<module>\u001b[1;34m()\u001b[0m\n",
      "\n",
      "ipdb> result1\n",
      "9\n",
      "ipdb> x\n",
      "[1, 2, 3]\n",
      "ipdb> x + y\n",
      "*** TypeError: can only concatenate list (not \"int\") to list\n",
      "ipdb> q\n"
     ]
    }
   ],
   "source": [
    "#Python Debugger (pdb):\n",
    "\n",
    "import pdb\n",
    "\n",
    "x = [1,2,3]\n",
    "y = 4\n",
    "z = 5\n",
    "\n",
    "result1 = y + z\n",
    "\n",
    "pdb.set_trace()  # Set the trace above the error, allows you to pause script to explore and call variables in the code.\n",
    "x + z\n",
    "\n",
    "#type 'q' to quit debugger"
   ]
  },
  {
   "cell_type": "code",
   "execution_count": 13,
   "id": "08584d18",
   "metadata": {},
   "outputs": [
    {
     "name": "stdout",
     "output_type": "stream",
     "text": [
      "<re.Match object; span=(11, 16), match='phone'>\n",
      "(11, 16)\n",
      "11\n",
      "16\n",
      "['phone', 'phone']\n",
      "(11, 16)\n",
      "phone\n",
      "(50, 55)\n",
      "phone\n",
      "\n",
      "+8\n",
      "+81-080-4322-0967\n",
      "+81-080-4322-0967\n",
      "dog\n",
      "['at', 'at', 'at', 'at', 'at']\n",
      "['cat', 'hat', 'sat', ' at', 'hat']\n",
      "[' cat', ' hat', ' sat', 'r at', 'Shat']\n",
      "\n",
      "['1']\n",
      "[]\n",
      "\n",
      "['1']\n",
      "[]\n",
      "\n",
      "['T', 'h', 'i', 's', ' ', ' ', 'w', 'i', 'l', 'l', ' ', 'e', 'x', 'c', 'l', 'u', 'd', 'e', ' ', ' ', 'a', 'l', 'l', ' ', 'n', 'u', 'm', 'b', 'e', 'r', 's', ' ', '.']\n",
      "['This ', ' will exclude ', ' all numbers ', '.']\n",
      "This  will exclude  all numbers .\n",
      "\n",
      "['We', 'want', 'to', '1', 'find', 'a', 'group', '111', 'of', 'all', 'Alpha', 'numerics', 'or', 'hyphen', 'words']\n",
      "['Alpha-numerics', 'hyphen-words']\n",
      "\n",
      "<re.Match object; span=(11, 17), match='catnap'>\n",
      "<re.Match object; span=(11, 18), match='catfish'>\n",
      "<re.Match object; span=(11, 22), match='caterpillar'>\n"
     ]
    }
   ],
   "source": [
    "#Python RegEx - Regular Expressions, syntax is an identifer + a quantifier\n",
    "\n",
    "#can search for a substring in a string with the \"in\" operator\n",
    "'dog' in \"I have a dog\" # --> True\n",
    "\n",
    "#regex allows for special characters and patterns and more flexibility.\n",
    "## No Need to learn the all the patterns, can just search stack overflow and know how to use it and know syntax...\n",
    "\n",
    "# Identifiers allow for wildcard searches.  Quantifiers.\n",
    "\n",
    "text = \"The agen't phone number is 631-748-0967.  Call me phone!\"\n",
    "'phone' in text # --> True\n",
    "\n",
    "import re\n",
    "\n",
    "pattern = 'phone'\n",
    "pattern1 = 'Bugaboo'\n",
    "\n",
    "match = re.search(pattern, text)  # returns a match object and the index for the span (start-end)\n",
    "\n",
    "re.search(pattern1, text) # if no match it returns None, nothing output to jupyter cell\n",
    "\n",
    "print(match)\n",
    "print(match.span())  \n",
    "print(match.start())\n",
    "print(match.end())\n",
    "\n",
    "# Match only returns the first match, to find all instances of the substring:\n",
    "matches = re.findall('phone',text)\n",
    "print(matches) # returns list, just take the len of the list for the count\n",
    "\n",
    "#to get back actual match objects, you can use iterator\n",
    "for match in re.finditer('phone',text):\n",
    "    print(match.span())\n",
    "    print(match.group()) # prints match (same as find all)\n",
    "    \n",
    "print('')\n",
    "# Caracter identifiers: ie: \\d to find a digit, \\s to find whitespace... many others\n",
    "# file_\\d\\d --> file_25\n",
    "# \\W non alphanumeric: \\D\\D\\D --> ABC\n",
    "\n",
    "text1 = 'My Japanese phone number is +81-080-4322-0967'\n",
    "\n",
    "#add 'r' before string to denote it's a regex\n",
    "phone_number = re.search(r'\\W\\d', text1) # using regex to find the international number starting point of string\n",
    "\n",
    "print(phone_number.group()) # use group to return the text of the matched portion of string\n",
    "\n",
    "full_phone_number = re.search(r'\\W\\d\\d-\\d\\d\\d-\\d\\d\\d\\d-\\d\\d\\d\\d', text1)\n",
    "print(full_phone_number.group())\n",
    "\n",
    "#Quantifiers - counts amount of times to search for chracters...\n",
    "## ex: + occurs one or more times\n",
    "## ex: {3} occurs 3x, {2.4} occurs 2 to 4 times. {3,} three or more\n",
    "## * zero or more times, '?' once or none\n",
    "\n",
    "#regex pattern for the number using both Quantifiers and Identifiers:\n",
    "full_phone_number1 = re.search(r'\\W\\d{2}-\\d{3}\\W\\d{4}-\\d{4}', text1)\n",
    "print(full_phone_number1.group())\n",
    "\n",
    "#Compile together different regex pattern codes\n",
    "phone_pattern = re.compile(r'(\\W\\d{2})-(\\d{3}\\W\\d{4})-(\\d{4})')  #compiles these groups into one pattern\n",
    "\n",
    "results = re.search(phone_pattern, text1)\n",
    "results.group()\n",
    "results.group(1) # group indexing, allows you to find sections of search and also the whole thing\n",
    "\n",
    "# regex 'or' operator, use pipe '|'\n",
    "result3 = re.search(r'cat|dog', 'This sentence only has the word dog in it')\n",
    "print(result3.group())\n",
    "\n",
    "# regex wildcard operator is a period '.'\n",
    "print(re.findall(r'at', 'The cat in the hat sat over at the table and Shat.')) #no wildcard\n",
    "print(re.findall(r'.at', 'The cat in the hat sat over at the table and Shat.')) #with one wildcard\n",
    "print(re.findall(r'..at', 'The cat in the hat sat over at the table and Shat.')) #with two wildcards\n",
    "print('')\n",
    "\n",
    "#check if a whole text starts with a specified character using ^ symbol:\n",
    "print(re.findall(r'^\\d', '1 will only work if first character starts as specified')) #prints the character only if whole string starts with it\n",
    "print(re.findall(r'^\\d', 'will 1 only work if first character starts as specified')) # returns none\n",
    "print('')\n",
    "\n",
    "#check if a whole ends starts with a specified character using $ symbol:\n",
    "print(re.findall(r'\\d$', 'will only work if last character end as specified 1')) #prints the character only if whole string starts with it\n",
    "print(re.findall(r'^\\d', 'will only work if last character end as specified')) # returns none\n",
    "print('')\n",
    "\n",
    "#exclude items, so for ex return everything except numbers use brackets, ass a + at end to bring back all results:\n",
    "print(re.findall(r'[^\\d]', 'This 1 will exclude 2 all numbers 3.'))\n",
    "print(re.findall(r'[^\\d]+', 'This 1 will exclude 2 all numbers 3.')) # easy regex version to remove all something from string\n",
    "print(''.join(re.findall(r'[^\\d]+', 'This 1 will exclude 2 all numbers 3.')))\n",
    "print('')\n",
    "\n",
    "# Use brackets for Inclusion as well.\n",
    "print(re.findall(r'[\\w]+', 'We want to 1 find a group 111 of all Alpha-numerics or hyphen-words.')) #this is taking all the words because because \\w doesn't include white space so its just all the groups (words) of alphanumerics\n",
    "print(re.findall(r'[\\w]+-[\\w]+', 'We want to 1 find a group 111 of all Alpha-numerics or hyphen-words.')) # here's out to select hypehated works from the string.\n",
    "print('')\n",
    "\n",
    "#combine OR staement with other peices of text:\n",
    "print(re.search(r'cat(fish|nap|erpillar)', 'Search for catnap'))\n",
    "print(re.search(r'cat(fish|nap|erpillar)', 'Search for catfish'))\n",
    "print(re.search(r'cat(fish|nap|erpillar)', 'Search for caterpillar'))\n",
    "\n",
    "#just GOOGLE search the tables for all search syntaxes"
   ]
  },
  {
   "cell_type": "code",
   "execution_count": 46,
   "id": "7b47e4b3",
   "metadata": {},
   "outputs": [
    {
     "name": "stdout",
     "output_type": "stream",
     "text": [
      "['T', 'o', 'n', 'y']\n",
      "['1', '2', '3', '4', '5', '6', '7', '8', '9', '10']\n",
      "['1', '2', '3', '4', '5', '6', '7', '8', '9', '10']\n",
      "\n",
      "0.35587286949157715\n",
      "0.3499915599822998\n",
      "\n",
      "1.4751274999871384\n",
      "1.4313886000018101\n",
      "\n"
     ]
    }
   ],
   "source": [
    "# Timing your code's performance:\n",
    "\n",
    "# List comprehension is creating a list from iterable items).\n",
    "mylist3 = [letter for letter in 'Tony']\n",
    "print(mylist3)\n",
    "\n",
    "#ex: some code using list comprehension making a list of strings\n",
    "def func_one(n):\n",
    "    return [str(num) for num in range(1,n+1)]\n",
    "\n",
    "print(func_one(10))\n",
    "\n",
    "def func_two(n):\n",
    "    return list(map(str, range(1,n+1)))\n",
    "\n",
    "print(func_two(10))\n",
    "print('')\n",
    "\n",
    "#Let's compare times, three methods:\n",
    "# 1) grab currrent time, run code, grab time after, take difference for elapsed time\n",
    " \n",
    "import time\n",
    "\n",
    "start_time = time.time()\n",
    "result = func_one(1000000)\n",
    "end_time = time.time()\n",
    "elapsed_time = end_time - start_time\n",
    "print(elapsed_time)\n",
    "\n",
    "start_time1 = time.time()\n",
    "result = func_two(1000000)\n",
    "end_time1 = time.time()\n",
    "elapsed_time1 = end_time1 - start_time1\n",
    "print(elapsed_time1)\n",
    "print('')\n",
    "\n",
    "# Method 2 for timing code using timeit module, but kind of long\n",
    "\n",
    "import timeit\n",
    "\n",
    "timeit.timeit\n",
    "\n",
    "statement = '''\n",
    "func_one(100)\n",
    "'''\n",
    "\n",
    "setup = '''\n",
    "def func_one(n):\n",
    "    return [str(num) for num in range(1,n+1)]\n",
    "'''\n",
    "\n",
    "test = timeit.timeit(statement, setup, number = 70000)\n",
    "print(test)\n",
    "\n",
    "statement2 = '''\n",
    "func_two(100)\n",
    "'''\n",
    "\n",
    "setup2 = '''\n",
    "def func_two(n):\n",
    "    return [str(num) for num in range(1,n+1)]\n",
    "'''\n",
    "\n",
    "test2 = timeit.timeit(statement2, setup2, number = 70000)\n",
    "print(test2)\n",
    "print('')\n",
    "\n",
    "# Method 3 using Jupyter %%timeit, but kind of sucks\n",
    "\n",
    "### Easiest Method is the first one... ###\n"
   ]
  },
  {
   "cell_type": "code",
   "execution_count": 55,
   "id": "c3306f9d",
   "metadata": {},
   "outputs": [],
   "source": [
    "#zipping files\n",
    "\n",
    "f = open('fileONE.txt', 'w+')\n",
    "f.write('One File')\n",
    "f.close()\n",
    "\n",
    "f = open('fileTWO.txt', 'w+')\n",
    "f.write('Two FIle')\n",
    "f.close()\n",
    "\n",
    "import zipfile  # built in python library \n",
    "\n",
    "#create your zip file:\n",
    "compressed_file = zipfile.ZipFile('compressed_file.zip', 'w')\n",
    "\n",
    "#compress and enter files into your zip file:\n",
    "compressed_file.write('fileONE.txt', compress_type=zipfile.ZIP_DEFLATED)\n",
    "compressed_file.write('fileTWO.txt', compress_type=zipfile.ZIP_DEFLATED)\n",
    "compressed_file.close()"
   ]
  },
  {
   "cell_type": "code",
   "execution_count": 62,
   "id": "7730f708",
   "metadata": {},
   "outputs": [],
   "source": [
    "# Extract files from Zipped file.  \n",
    "\n",
    "#First create zip object then extract from it.\n",
    "zip_obj = zipfile.ZipFile('compressed_file.zip', 'r')\n",
    "\n",
    "#It will extract to the cript's default path if none specified, or will create the folder if you specify and not existing.\n",
    "zip_obj.extractall('Create Test Folder')\n",
    "\n",
    "#close file object in python\n",
    "zip_obj.close()"
   ]
  },
  {
   "cell_type": "code",
   "execution_count": 66,
   "id": "b12b25de",
   "metadata": {},
   "outputs": [
    {
     "data": {
      "text/plain": [
       "'C:\\\\Users\\\\AnthonyRandazzo\\\\Documents\\\\Python Scripts\\\\example.zip'"
      ]
     },
     "execution_count": 66,
     "metadata": {},
     "output_type": "execute_result"
    }
   ],
   "source": [
    "# Zipping an entire folder (directory)\n",
    "\n",
    "import shutil  # shell utilities.\n",
    "\n",
    "folder_to_zip = 'C:\\\\Users\\\\AnthonyRandazzo\\\\Documents\\\\Python Scripts\\\\Create Test Folder'\n",
    "\n",
    "output_filename = 'example'\n",
    "\n",
    "shutil.make_archive(output_filename, 'zip', folder_to_zip) #created 'C:\\\\Users\\\\AnthonyRandazzo\\\\Documents\\\\Python Scripts\\\\example.zip'"
   ]
  },
  {
   "cell_type": "code",
   "execution_count": 71,
   "id": "ab880d6b",
   "metadata": {},
   "outputs": [],
   "source": [
    "# unzipping (unpacking) using shell ultilities (shutil)\n",
    "\n",
    "file_to_unzip = 'C:\\\\Users\\\\AnthonyRandazzo\\\\Documents\\\\Python Scripts\\\\example.zip'\n",
    "\n",
    "shutil.unpack_archive(filename=file_to_unzip, extract_dir='final unzipped folder',format='zip') # creates the folder if specified otherwise extracts files directly to script's path"
   ]
  },
  {
   "cell_type": "code",
   "execution_count": 73,
   "id": "06d579d5",
   "metadata": {},
   "outputs": [],
   "source": [
    "# Excel, use pandas or openpyxl ibraries, but for now we'll do basic python build in tasks with csv files.\n",
    "## check python-excel.org for more info.\n",
    "## Google sheets python API for a direct interface!  Google search \"google sheets python API\"\n",
    "\n"
   ]
  }
 ],
 "metadata": {
  "kernelspec": {
   "display_name": "Python 3 (ipykernel)",
   "language": "python",
   "name": "python3"
  },
  "language_info": {
   "codemirror_mode": {
    "name": "ipython",
    "version": 3
   },
   "file_extension": ".py",
   "mimetype": "text/x-python",
   "name": "python",
   "nbconvert_exporter": "python",
   "pygments_lexer": "ipython3",
   "version": "3.11.5"
  }
 },
 "nbformat": 4,
 "nbformat_minor": 5
}

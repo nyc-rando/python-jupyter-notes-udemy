{
 "cells": [
  {
   "cell_type": "code",
   "execution_count": 135,
   "id": "07c75415",
   "metadata": {},
   "outputs": [],
   "source": [
    "import smtplib"
   ]
  },
  {
   "cell_type": "code",
   "execution_count": 136,
   "id": "ae459f48",
   "metadata": {},
   "outputs": [],
   "source": [
    "#port 587 is TLS encryption\n",
    "smtp_object = smtplib.SMTP('smtp.gmail.com',587)"
   ]
  },
  {
   "cell_type": "code",
   "execution_count": 137,
   "id": "53bdff04",
   "metadata": {},
   "outputs": [
    {
     "data": {
      "text/plain": [
       "(250,\n",
       " b'smtp.gmail.com at your service, [154.6.93.30]\\nSIZE 35882577\\n8BITMIME\\nSTARTTLS\\nENHANCEDSTATUSCODES\\nPIPELINING\\nCHUNKING\\nSMTPUTF8')"
      ]
     },
     "execution_count": 137,
     "metadata": {},
     "output_type": "execute_result"
    }
   ],
   "source": [
    "smtp_object.ehlo()"
   ]
  },
  {
   "cell_type": "code",
   "execution_count": 138,
   "id": "06f6aa5a",
   "metadata": {},
   "outputs": [
    {
     "data": {
      "text/plain": [
       "(220, b'2.0.0 Ready to start TLS')"
      ]
     },
     "execution_count": 138,
     "metadata": {},
     "output_type": "execute_result"
    }
   ],
   "source": [
    "#initiate encryption\n",
    "smtp_object.starttls()"
   ]
  },
  {
   "cell_type": "code",
   "execution_count": 139,
   "id": "44ca990d",
   "metadata": {},
   "outputs": [],
   "source": [
    "#keep Password hidden\n",
    "import getpass"
   ]
  },
  {
   "cell_type": "code",
   "execution_count": 140,
   "id": "87089a2b",
   "metadata": {},
   "outputs": [],
   "source": [
    "#gmail App pw\n",
    "app_pw = 'zdhk cmsw ucwu odgh'"
   ]
  },
  {
   "cell_type": "code",
   "execution_count": 141,
   "id": "1f0c6b4b",
   "metadata": {},
   "outputs": [],
   "source": [
    "#Store Login credentials\n",
    "#email = getpass.getpass('Enter email: ')\n",
    "#pw = getpass.getpass('Pls Enter pw: ')\n",
    "#smtp_object.login(email,app_pw)"
   ]
  },
  {
   "cell_type": "code",
   "execution_count": 116,
   "id": "cae90a4d",
   "metadata": {},
   "outputs": [
    {
     "name": "stdout",
     "output_type": "stream",
     "text": [
      "Enter email subject: no\n",
      "Enter email body message: no\n"
     ]
    }
   ],
   "source": [
    "#Generate Email.  The {} denotes the message was sent sucessfully.\n",
    "from_address = 'bigxshowx@gmail.com'\n",
    "to_address = 'a.randazzo1@gmail.com'\n",
    "subject = input(\"Enter email subject: \")\n",
    "body = input('Enter email body message: ')\n",
    "full_message = \"Subject: \" + subject + '\\n' + body\n"
   ]
  },
  {
   "cell_type": "code",
   "execution_count": 44,
   "id": "e9b55b80",
   "metadata": {},
   "outputs": [
    {
     "data": {
      "text/plain": [
       "{}"
      ]
     },
     "execution_count": 44,
     "metadata": {},
     "output_type": "execute_result"
    }
   ],
   "source": [
    "#send email\n",
    "smtp_object.sendmail(from_address, to_address, full_message)"
   ]
  },
  {
   "cell_type": "code",
   "execution_count": 45,
   "id": "2a177aa2",
   "metadata": {},
   "outputs": [
    {
     "data": {
      "text/plain": [
       "(221,\n",
       " b'2.0.0 closing connection b4-20020a170902ed0400b001d458ee8749sm4764186pld.118 - gsmtp')"
      ]
     },
     "execution_count": 45,
     "metadata": {},
     "output_type": "execute_result"
    }
   ],
   "source": [
    "# Close email object session\n",
    "smtp_object.quit()"
   ]
  },
  {
   "cell_type": "code",
   "execution_count": 142,
   "id": "0b5af209",
   "metadata": {},
   "outputs": [
    {
     "data": {
      "text/plain": [
       "('OK',\n",
       " [b'(\\\\HasNoChildren) \"/\" \"Bitch\"',\n",
       "  b'(\\\\HasNoChildren) \"/\" \"CodeCamps\"',\n",
       "  b'(\\\\HasNoChildren) \"/\" \"Coding 2023\"',\n",
       "  b'(\\\\HasNoChildren) \"/\" \"Deleted Messages\"',\n",
       "  b'(\\\\HasNoChildren) \"/\" \"Drafts\"',\n",
       "  b'(\\\\HasNoChildren) \"/\" \"INBOX\"',\n",
       "  b'(\\\\HasNoChildren) \"/\" \"Job Search\"',\n",
       "  b'(\\\\HasNoChildren) \"/\" \"Notes\"',\n",
       "  b'(\\\\HasNoChildren) \"/\" \"Old Mail\"',\n",
       "  b'(\\\\HasNoChildren) \"/\" \"Sent Messages\"',\n",
       "  b'(\\\\HasNoChildren) \"/\" \"Tax\"',\n",
       "  b'(\\\\HasNoChildren) \"/\" \"Twitter Content\"',\n",
       "  b'(\\\\HasChildren \\\\Noselect) \"/\" \"[Gmail]\"',\n",
       "  b'(\\\\All \\\\HasNoChildren) \"/\" \"[Gmail]/All Mail\"',\n",
       "  b'(\\\\Drafts \\\\HasNoChildren) \"/\" \"[Gmail]/Drafts\"',\n",
       "  b'(\\\\HasNoChildren \\\\Important) \"/\" \"[Gmail]/Important\"',\n",
       "  b'(\\\\HasNoChildren \\\\Sent) \"/\" \"[Gmail]/Sent Mail\"',\n",
       "  b'(\\\\HasNoChildren \\\\Junk) \"/\" \"[Gmail]/Spam\"',\n",
       "  b'(\\\\Flagged \\\\HasNoChildren) \"/\" \"[Gmail]/Starred\"',\n",
       "  b'(\\\\HasNoChildren \\\\Trash) \"/\" \"[Gmail]/Trash\"',\n",
       "  b'(\\\\HasNoChildren) \"/\" \"[Gmail]Trash\"',\n",
       "  b'(\\\\HasNoChildren) \"/\" \"crypo\"'])"
      ]
     },
     "execution_count": 142,
     "metadata": {},
     "output_type": "execute_result"
    }
   ],
   "source": [
    "# Receiving emails with Python, so checking and filtering an inbox using python\n",
    "\n",
    "import imaplib\n",
    "\n",
    "#establish connection to server\n",
    "M = imaplib.IMAP4_SSL('imap.gmail.com')\n",
    "\n",
    "#import getpass #--> already imported earlier but this is just incase a new program...\n",
    "'''\n",
    "email = getpass.getpass('Email: ') #--> already imported earlier but this is just incase a new program...\n",
    "pw = getpass.getpass('Password: ') #--> already imported earlier but this is just incase a new program...\n",
    "'''\n",
    "\n",
    "#login, should get some Auth Success message if no issues:\n",
    "M.login('bigxshowx@gmail.com', app_pw)\n",
    "M.list() # --> to see all folder options available "
   ]
  },
  {
   "cell_type": "code",
   "execution_count": 143,
   "id": "4558fea6",
   "metadata": {},
   "outputs": [
    {
     "data": {
      "text/plain": [
       "('OK', [b'53'])"
      ]
     },
     "execution_count": 143,
     "metadata": {},
     "output_type": "execute_result"
    }
   ],
   "source": [
    "#select folder to search, can be 'INBOX'.  If all good returns 'OK' and Number of emails in folder.\n",
    "M.select('Bitch')"
   ]
  },
  {
   "cell_type": "code",
   "execution_count": 155,
   "id": "3bffb57a",
   "metadata": {},
   "outputs": [
    {
     "name": "stdout",
     "output_type": "stream",
     "text": [
      "OK\n"
     ]
    }
   ],
   "source": [
    "#tuple unpacking syntax here, pass in NONE for charset argument \n",
    "#then CAPITALS for the key words, search lib's docs for options.\n",
    "typ , data = M.search(None, 'SUBJECT \"Hello from NY\"')\n",
    "\n",
    "#is no items then no emails found, if multiple numbers in the list then multiple emails found.\n",
    "print(typ)\n",
    "data\n",
    "\n",
    "\n",
    "# ****** The reason the original 1 line didn't work is because it's not a single email but a thread of 15 emails\n",
    "# Thus it could not parse, it needed to be split to the indivial emails as follows: *********\n",
    "#result, email_data = M.fetch(data[0],\"(RFC822)\")\n",
    "\n",
    "#transform data for parsing and Fetch the individual data:\n",
    "full_chain = []\n",
    "i = 1\n",
    "for dat in data[0].split():\n",
    "    result, email_data = M.fetch(dat,\"(RFC822)\")  # -->  2nd argument is the protocol needed to be passed in...\n",
    "    full_chain.append((result,email_data))\n"
   ]
  },
  {
   "cell_type": "code",
   "execution_count": 187,
   "id": "b63dd451",
   "metadata": {},
   "outputs": [],
   "source": [
    "#extract main message\n",
    "\n",
    "#full chain, reversed so oldest comes first, goodle sends back newest first\n",
    "ordered_chain = full_chain[::-1]\n",
    "\n",
    "#grab first raw email message from chain\n",
    "first_email_raw = ordered_chain[0][1][0][1]\n",
    "\n",
    "#decode message, so symbols don't confuse python\n",
    "first_raw_email_string = first_email_raw.decode('utf-8')\n",
    "\n",
    "#use built-in email Lib to parse the raw string... \n",
    "#The email Library helps grab the actual message\n",
    "import email\n",
    "\n",
    "#will create an iterator object\n",
    "first_formatted_email = email.message_from_string(first_raw_email_string)\n",
    "\n",
    "#can use email lib to pull body of email in menaingful format, you can use own code though if easier...\n",
    "final_message = ''\n",
    "for part in first_formatted_email.walk():\n",
    "    \n",
    "    if part.get_content_type() == 'text/plain':\n",
    "        body = part.get_payload(decode=True)\n",
    "        final_message = body\n",
    "\n",
    "# b' represents byte string, due to way the email was read in"
   ]
  },
  {
   "cell_type": "code",
   "execution_count": 190,
   "id": "3ec0bcbc",
   "metadata": {},
   "outputs": [
    {
     "name": "stdout",
     "output_type": "stream",
     "text": [
      "b\"Well its more then just friends, I still have this delusion that we need to\\r\\ndo our own thing for awile and then. . . fate. . .  Yeah Yeah we've both\\r\\nbeen with other people but so far nothing like I had with you, I see you as\\r\\nthe one who got away.  I told you before one time that everyone I have ever\\r\\nmet has had somthing wrong with them untill you and I'm seeing the same\\r\\ndilema again.  I like to day dream about going to london on business and\\r\\ninviting you to lunch and . . .  Something out of a movie but why not?\\r\\n\\r\\nAnyway things are going good at Goldman, I'm working hard and my bosses are\\r\\ntaking notice I feel,  I put in about 60 hours a week but I don't care\\r\\nbecause I am getting paid overtime so I try to stay as long as I can since\\r\\ni've got nothing else to do afterwards anyway.  this my my #1 priority to\\r\\nestablish myself early in my carrer.  I just bought a 42 inch Sony Plasma\\r\\nFlat High definition TV!!  A present for me cause there is noone else right\\r\\nnow.  I'm not mad or bitter anymore because I have moved on too (I'll be\\r\\nnicer then you and not give a name) but I still hold you up on a pedestool,\\r\\nand still think you are perfection.  My number is the same 631-748-0967.\\r\\nDon't be a stranger, unless Alex doesn't want you talking to me (not like i\\r\\ncare), but I'd like to think I still know you a bit better then most\\r\\npeople.  Gook luck on your exams babe.\\r\\n\\r\\nxxx\\r\\nAnthony from NYC\\r\\n\\r\\n\\r\\nOn 3/30/06, Candice Goonewardene <candiceag@hotmail.com> wrote:\\r\\n>\\r\\n> hello!\\r\\n> thought id write a little longer than last time! . i have exams creepng up\\r\\n> on me, your so lucky to be finished with all that stress. hope your work\\r\\n> is\\r\\n> good! weird to think this time last year i was in new york!\\r\\n> im very tired right now, trying to work and really cant be bothered,\\r\\n> if there is ne chance you could give me your no. i deleted yours in\\r\\n> aheated\\r\\n> moment a while ago :s\\r\\n>\\r\\n> apologies! but since we cna be friends its differnt now,\\r\\n> candi xx\\r\\n\"\n"
     ]
    }
   ],
   "source": [
    "print(final_message)"
   ]
  },
  {
   "cell_type": "code",
   "execution_count": null,
   "id": "f4c5ef8d",
   "metadata": {},
   "outputs": [],
   "source": [
    "#need to work more on formatting this text..."
   ]
  }
 ],
 "metadata": {
  "kernelspec": {
   "display_name": "Python 3 (ipykernel)",
   "language": "python",
   "name": "python3"
  },
  "language_info": {
   "codemirror_mode": {
    "name": "ipython",
    "version": 3
   },
   "file_extension": ".py",
   "mimetype": "text/x-python",
   "name": "python",
   "nbconvert_exporter": "python",
   "pygments_lexer": "ipython3",
   "version": "3.11.7"
  }
 },
 "nbformat": 4,
 "nbformat_minor": 5
}
